{
 "cells": [
  {
   "cell_type": "code",
   "execution_count": 1,
   "metadata": {},
   "outputs": [],
   "source": [
    "import pandas as pd\n",
    "import numpy as np\n",
    "from pandas.tseries.offsets import *\n",
    "\n",
    "from scipy import stats\n",
    "import datetime as dt\n",
    "\n",
    "import matplotlib.pyplot as plt\n",
    "import statsmodels.api as sm\n",
    "\n",
    "import pickle"
   ]
  },
  {
   "cell_type": "code",
   "execution_count": 2,
   "metadata": {},
   "outputs": [],
   "source": [
    "# Loading stocks\n",
    "y_pred1 = pickle.load(open('lstm_predict.pkl', 'rb' ))\n",
    "y_pred2 = pickle.load(open('lstm_predict_2.pkl', 'rb' ))\n",
    "y_pred3 = pickle.load(open('lstm_predict_3.pkl', 'rb' ))\n",
    "y_pred4 = pickle.load(open('lstm_predict_4.pkl', 'rb' ))\n",
    "y_pred5 = pickle.load(open('lstm_predict_5.pkl', 'rb' ))"
   ]
  },
  {
   "cell_type": "code",
   "execution_count": 3,
   "metadata": {},
   "outputs": [
    {
     "data": {
      "text/plain": [
       "((270000, 1), (270000, 1), (270000, 1), (270000, 1), (270000, 1))"
      ]
     },
     "execution_count": 3,
     "metadata": {},
     "output_type": "execute_result"
    }
   ],
   "source": [
    "y_pred1.shape, y_pred2.shape, y_pred3.shape, y_pred4.shape, y_pred5.shape"
   ]
  },
  {
   "cell_type": "code",
   "execution_count": 4,
   "metadata": {},
   "outputs": [],
   "source": [
    "y_pred = np.mean(np.array([y_pred1, y_pred2, y_pred3, y_pred4,y_pred5]), axis=0 )"
   ]
  },
  {
   "cell_type": "code",
   "execution_count": 5,
   "metadata": {},
   "outputs": [
    {
     "data": {
      "text/plain": [
       "array([[6.1427723e-05],\n",
       "       [1.8269480e-05],\n",
       "       [8.4781765e-05],\n",
       "       ...,\n",
       "       [1.7059020e-04],\n",
       "       [2.0133998e-04],\n",
       "       [2.0943268e-04]], dtype=float32)"
      ]
     },
     "execution_count": 5,
     "metadata": {},
     "output_type": "execute_result"
    }
   ],
   "source": [
    "y_pred"
   ]
  },
  {
   "cell_type": "code",
   "execution_count": 6,
   "metadata": {},
   "outputs": [],
   "source": [
    "# Importing y\n",
    "y = pd.read_csv('y_reg.csv')\n",
    "y['date'] =  pd.to_datetime(y['date'])\n",
    "y = y.set_index(['date'])\n",
    "y_test = y[y.index > '1975-12-01']\n",
    "y_test = y_test.values.ravel()"
   ]
  },
  {
   "cell_type": "code",
   "execution_count": 7,
   "metadata": {},
   "outputs": [
    {
     "name": "stdout",
     "output_type": "stream",
     "text": [
      "0.0002504527347331198\n"
     ]
    }
   ],
   "source": [
    "# Testing R2\n",
    "r2_df = pd.DataFrame()\n",
    "r2_df['y'] = y_test\n",
    "r2_df['y_hat'] = y_pred\n",
    "r2_df['difference'] = (r2_df['y']-r2_df['y_hat'])\n",
    "r2_df['y_2'] = r2_df['y']**2\n",
    "r2_df['dif2'] = r2_df['difference']**2\n",
    "y_2 = r2_df['y_2'].sum() \n",
    "dif2 = r2_df['dif2'].sum()\n",
    "print(1 - (dif2 / y_2))"
   ]
  },
  {
   "cell_type": "code",
   "execution_count": 8,
   "metadata": {},
   "outputs": [],
   "source": [
    "spear = []\n",
    "for i in range(len(y_pred)//500):       \n",
    "    spear.append(stats.spearmanr(y_pred[i*500:(i+1)*500], y_test[i*500:(i+1)*500])[0])"
   ]
  },
  {
   "cell_type": "code",
   "execution_count": 9,
   "metadata": {},
   "outputs": [
    {
     "data": {
      "text/plain": [
       "(0.023992212257426537, 0.18100208841385337)"
      ]
     },
     "execution_count": 9,
     "metadata": {},
     "output_type": "execute_result"
    }
   ],
   "source": [
    "np.mean(spear),np.std(spear,ddof=1)"
   ]
  },
  {
   "cell_type": "code",
   "execution_count": 10,
   "metadata": {},
   "outputs": [
    {
     "data": {
      "text/plain": [
       "Ttest_1sampResult(statistic=3.080233139605294, pvalue=0.002173894202390625)"
      ]
     },
     "execution_count": 10,
     "metadata": {},
     "output_type": "execute_result"
    }
   ],
   "source": [
    "stats.ttest_1samp(spear, 0.0)"
   ]
  },
  {
   "cell_type": "code",
   "execution_count": 11,
   "metadata": {},
   "outputs": [],
   "source": [
    "# Loading stock universe\n",
    "universe_test = pd.read_csv('universe_test.csv')"
   ]
  },
  {
   "cell_type": "code",
   "execution_count": 12,
   "metadata": {},
   "outputs": [],
   "source": [
    "# Insert predictions\n",
    "universe_test.insert(1, \"y_hat\", y_pred)"
   ]
  },
  {
   "cell_type": "code",
   "execution_count": 13,
   "metadata": {},
   "outputs": [],
   "source": [
    "y_rank = universe_test.copy()"
   ]
  },
  {
   "cell_type": "code",
   "execution_count": 14,
   "metadata": {},
   "outputs": [
    {
     "name": "stdout",
     "output_type": "stream",
     "text": [
      "<class 'pandas.core.frame.DataFrame'>\n",
      "RangeIndex: 270000 entries, 0 to 269999\n",
      "Data columns (total 3 columns):\n",
      " #   Column  Non-Null Count   Dtype  \n",
      "---  ------  --------------   -----  \n",
      " 0   date    270000 non-null  object \n",
      " 1   y_hat   270000 non-null  float32\n",
      " 2   permno  270000 non-null  int64  \n",
      "dtypes: float32(1), int64(1), object(1)\n",
      "memory usage: 5.1+ MB\n"
     ]
    }
   ],
   "source": [
    "y_rank.info()"
   ]
  },
  {
   "cell_type": "code",
   "execution_count": 15,
   "metadata": {},
   "outputs": [
    {
     "data": {
      "text/html": [
       "<div>\n",
       "<style scoped>\n",
       "    .dataframe tbody tr th:only-of-type {\n",
       "        vertical-align: middle;\n",
       "    }\n",
       "\n",
       "    .dataframe tbody tr th {\n",
       "        vertical-align: top;\n",
       "    }\n",
       "\n",
       "    .dataframe thead th {\n",
       "        text-align: right;\n",
       "    }\n",
       "</style>\n",
       "<table border=\"1\" class=\"dataframe\">\n",
       "  <thead>\n",
       "    <tr style=\"text-align: right;\">\n",
       "      <th></th>\n",
       "      <th>date</th>\n",
       "      <th>y_hat</th>\n",
       "      <th>permno</th>\n",
       "    </tr>\n",
       "  </thead>\n",
       "  <tbody>\n",
       "    <tr>\n",
       "      <th>0</th>\n",
       "      <td>1976-01-01</td>\n",
       "      <td>0.000061</td>\n",
       "      <td>10137</td>\n",
       "    </tr>\n",
       "    <tr>\n",
       "      <th>1</th>\n",
       "      <td>1976-01-01</td>\n",
       "      <td>0.000018</td>\n",
       "      <td>10145</td>\n",
       "    </tr>\n",
       "    <tr>\n",
       "      <th>2</th>\n",
       "      <td>1976-01-01</td>\n",
       "      <td>0.000085</td>\n",
       "      <td>10161</td>\n",
       "    </tr>\n",
       "    <tr>\n",
       "      <th>3</th>\n",
       "      <td>1976-01-01</td>\n",
       "      <td>0.000066</td>\n",
       "      <td>10225</td>\n",
       "    </tr>\n",
       "    <tr>\n",
       "      <th>4</th>\n",
       "      <td>1976-01-01</td>\n",
       "      <td>0.000075</td>\n",
       "      <td>10233</td>\n",
       "    </tr>\n",
       "    <tr>\n",
       "      <th>...</th>\n",
       "      <td>...</td>\n",
       "      <td>...</td>\n",
       "      <td>...</td>\n",
       "    </tr>\n",
       "    <tr>\n",
       "      <th>269995</th>\n",
       "      <td>2020-12-01</td>\n",
       "      <td>0.000120</td>\n",
       "      <td>93096</td>\n",
       "    </tr>\n",
       "    <tr>\n",
       "      <th>269996</th>\n",
       "      <td>2020-12-01</td>\n",
       "      <td>0.000148</td>\n",
       "      <td>93132</td>\n",
       "    </tr>\n",
       "    <tr>\n",
       "      <th>269997</th>\n",
       "      <td>2020-12-01</td>\n",
       "      <td>0.000171</td>\n",
       "      <td>93246</td>\n",
       "    </tr>\n",
       "    <tr>\n",
       "      <th>269998</th>\n",
       "      <td>2020-12-01</td>\n",
       "      <td>0.000201</td>\n",
       "      <td>93312</td>\n",
       "    </tr>\n",
       "    <tr>\n",
       "      <th>269999</th>\n",
       "      <td>2020-12-01</td>\n",
       "      <td>0.000209</td>\n",
       "      <td>93436</td>\n",
       "    </tr>\n",
       "  </tbody>\n",
       "</table>\n",
       "<p>270000 rows × 3 columns</p>\n",
       "</div>"
      ],
      "text/plain": [
       "              date     y_hat  permno\n",
       "0       1976-01-01  0.000061   10137\n",
       "1       1976-01-01  0.000018   10145\n",
       "2       1976-01-01  0.000085   10161\n",
       "3       1976-01-01  0.000066   10225\n",
       "4       1976-01-01  0.000075   10233\n",
       "...            ...       ...     ...\n",
       "269995  2020-12-01  0.000120   93096\n",
       "269996  2020-12-01  0.000148   93132\n",
       "269997  2020-12-01  0.000171   93246\n",
       "269998  2020-12-01  0.000201   93312\n",
       "269999  2020-12-01  0.000209   93436\n",
       "\n",
       "[270000 rows x 3 columns]"
      ]
     },
     "execution_count": 15,
     "metadata": {},
     "output_type": "execute_result"
    }
   ],
   "source": [
    "y_rank"
   ]
  },
  {
   "cell_type": "code",
   "execution_count": 16,
   "metadata": {},
   "outputs": [
    {
     "data": {
      "text/plain": [
       "267093"
      ]
     },
     "execution_count": 16,
     "metadata": {},
     "output_type": "execute_result"
    }
   ],
   "source": [
    "y_rank['y_hat'].nunique()"
   ]
  },
  {
   "cell_type": "code",
   "execution_count": 17,
   "metadata": {
    "scrolled": true
   },
   "outputs": [
    {
     "data": {
      "text/plain": [
       "(270000, 3)"
      ]
     },
     "execution_count": 17,
     "metadata": {},
     "output_type": "execute_result"
    }
   ],
   "source": [
    "y_rank.shape"
   ]
  },
  {
   "cell_type": "code",
   "execution_count": 18,
   "metadata": {},
   "outputs": [],
   "source": [
    "# For each date, ranking stocks into 1-10 portfolios based on cumret\n",
    "# 1 = loser, 10 = winner portfolio \n",
    "\n",
    "y_rank = y_rank.groupby('date').apply(lambda x: x.sort_values(['y_hat'], ascending = False)).reset_index(drop=True)\n",
    "y_rank['rank'] = y_rank.groupby('date')['y_hat'].transform(lambda x: pd.qcut(x, 10, labels=False))\n",
    "\n",
    "# For visualization: Shift momr from 0-9 to 1-10 \n",
    "y_rank['rank']=1+y_rank['rank']"
   ]
  },
  {
   "cell_type": "code",
   "execution_count": 19,
   "metadata": {},
   "outputs": [
    {
     "data": {
      "text/plain": [
       "rank\n",
       "1.0     0.000072\n",
       "2.0     0.000087\n",
       "3.0     0.000096\n",
       "4.0     0.000103\n",
       "5.0     0.000110\n",
       "6.0     0.000117\n",
       "7.0     0.000124\n",
       "8.0     0.000131\n",
       "9.0     0.000141\n",
       "10.0    0.000156\n",
       "Name: y_hat, dtype: float32"
      ]
     },
     "execution_count": 19,
     "metadata": {},
     "output_type": "execute_result"
    }
   ],
   "source": [
    "# Average cumulative return for each portfolio\n",
    "y_rank.groupby('rank')['y_hat'].mean()"
   ]
  },
  {
   "cell_type": "markdown",
   "metadata": {},
   "source": [
    "### 2. Merging daily data with LSTM rank"
   ]
  },
  {
   "cell_type": "code",
   "execution_count": 20,
   "metadata": {},
   "outputs": [
    {
     "name": "stderr",
     "output_type": "stream",
     "text": [
      "/opt/anaconda3/lib/python3.8/site-packages/IPython/core/interactiveshell.py:3146: DtypeWarning: Columns (2) have mixed types.Specify dtype option on import or set low_memory=False.\n",
      "  has_raised = await self.run_ast_nodes(code_ast.body, cell_name,\n"
     ]
    }
   ],
   "source": [
    "# Loading daily returns\n",
    "d_ret1 = pd.read_csv('daily_1931.csv')\n",
    "d_ret1['daily_date'] = pd.to_datetime(d_ret1.daily_date)"
   ]
  },
  {
   "cell_type": "code",
   "execution_count": 21,
   "metadata": {},
   "outputs": [
    {
     "data": {
      "text/html": [
       "<div>\n",
       "<style scoped>\n",
       "    .dataframe tbody tr th:only-of-type {\n",
       "        vertical-align: middle;\n",
       "    }\n",
       "\n",
       "    .dataframe tbody tr th {\n",
       "        vertical-align: top;\n",
       "    }\n",
       "\n",
       "    .dataframe thead th {\n",
       "        text-align: right;\n",
       "    }\n",
       "</style>\n",
       "<table border=\"1\" class=\"dataframe\">\n",
       "  <thead>\n",
       "    <tr style=\"text-align: right;\">\n",
       "      <th></th>\n",
       "      <th>permno</th>\n",
       "      <th>daily_date</th>\n",
       "      <th>siccd</th>\n",
       "      <th>dlret</th>\n",
       "      <th>ret</th>\n",
       "      <th>date_merge</th>\n",
       "    </tr>\n",
       "  </thead>\n",
       "  <tbody>\n",
       "    <tr>\n",
       "      <th>0</th>\n",
       "      <td>10000</td>\n",
       "      <td>1986-01-07</td>\n",
       "      <td>3990</td>\n",
       "      <td>NaN</td>\n",
       "      <td>C</td>\n",
       "      <td>1986/01</td>\n",
       "    </tr>\n",
       "    <tr>\n",
       "      <th>1</th>\n",
       "      <td>10000</td>\n",
       "      <td>1986-01-08</td>\n",
       "      <td>3990</td>\n",
       "      <td>NaN</td>\n",
       "      <td>-0.024390</td>\n",
       "      <td>1986/01</td>\n",
       "    </tr>\n",
       "    <tr>\n",
       "      <th>2</th>\n",
       "      <td>10000</td>\n",
       "      <td>1986-01-09</td>\n",
       "      <td>3990</td>\n",
       "      <td>NaN</td>\n",
       "      <td>0.000000</td>\n",
       "      <td>1986/01</td>\n",
       "    </tr>\n",
       "    <tr>\n",
       "      <th>3</th>\n",
       "      <td>10000</td>\n",
       "      <td>1986-01-10</td>\n",
       "      <td>3990</td>\n",
       "      <td>NaN</td>\n",
       "      <td>0.000000</td>\n",
       "      <td>1986/01</td>\n",
       "    </tr>\n",
       "    <tr>\n",
       "      <th>4</th>\n",
       "      <td>10000</td>\n",
       "      <td>1986-01-13</td>\n",
       "      <td>3990</td>\n",
       "      <td>NaN</td>\n",
       "      <td>0.050000</td>\n",
       "      <td>1986/01</td>\n",
       "    </tr>\n",
       "    <tr>\n",
       "      <th>...</th>\n",
       "      <td>...</td>\n",
       "      <td>...</td>\n",
       "      <td>...</td>\n",
       "      <td>...</td>\n",
       "      <td>...</td>\n",
       "      <td>...</td>\n",
       "    </tr>\n",
       "    <tr>\n",
       "      <th>75696491</th>\n",
       "      <td>93436</td>\n",
       "      <td>2020-12-24</td>\n",
       "      <td>9999</td>\n",
       "      <td>NaN</td>\n",
       "      <td>0.024444</td>\n",
       "      <td>2020/12</td>\n",
       "    </tr>\n",
       "    <tr>\n",
       "      <th>75696492</th>\n",
       "      <td>93436</td>\n",
       "      <td>2020-12-28</td>\n",
       "      <td>9999</td>\n",
       "      <td>NaN</td>\n",
       "      <td>0.002901</td>\n",
       "      <td>2020/12</td>\n",
       "    </tr>\n",
       "    <tr>\n",
       "      <th>75696493</th>\n",
       "      <td>93436</td>\n",
       "      <td>2020-12-29</td>\n",
       "      <td>9999</td>\n",
       "      <td>NaN</td>\n",
       "      <td>0.003465</td>\n",
       "      <td>2020/12</td>\n",
       "    </tr>\n",
       "    <tr>\n",
       "      <th>75696494</th>\n",
       "      <td>93436</td>\n",
       "      <td>2020-12-30</td>\n",
       "      <td>9999</td>\n",
       "      <td>NaN</td>\n",
       "      <td>0.043229</td>\n",
       "      <td>2020/12</td>\n",
       "    </tr>\n",
       "    <tr>\n",
       "      <th>75696495</th>\n",
       "      <td>93436</td>\n",
       "      <td>2020-12-31</td>\n",
       "      <td>9999</td>\n",
       "      <td>A</td>\n",
       "      <td>0.015674</td>\n",
       "      <td>2020/12</td>\n",
       "    </tr>\n",
       "  </tbody>\n",
       "</table>\n",
       "<p>75696496 rows × 6 columns</p>\n",
       "</div>"
      ],
      "text/plain": [
       "          permno daily_date siccd dlret        ret date_merge\n",
       "0          10000 1986-01-07  3990   NaN          C    1986/01\n",
       "1          10000 1986-01-08  3990   NaN  -0.024390    1986/01\n",
       "2          10000 1986-01-09  3990   NaN   0.000000    1986/01\n",
       "3          10000 1986-01-10  3990   NaN   0.000000    1986/01\n",
       "4          10000 1986-01-13  3990   NaN   0.050000    1986/01\n",
       "...          ...        ...   ...   ...        ...        ...\n",
       "75696491   93436 2020-12-24  9999   NaN   0.024444    2020/12\n",
       "75696492   93436 2020-12-28  9999   NaN   0.002901    2020/12\n",
       "75696493   93436 2020-12-29  9999   NaN   0.003465    2020/12\n",
       "75696494   93436 2020-12-30  9999   NaN   0.043229    2020/12\n",
       "75696495   93436 2020-12-31  9999     A   0.015674    2020/12\n",
       "\n",
       "[75696496 rows x 6 columns]"
      ]
     },
     "execution_count": 21,
     "metadata": {},
     "output_type": "execute_result"
    }
   ],
   "source": [
    "d_ret1"
   ]
  },
  {
   "cell_type": "code",
   "execution_count": 22,
   "metadata": {},
   "outputs": [],
   "source": [
    "# Preparing date colmn in \"universe\" for merge\n",
    "\n",
    "#Rename date column to merge\n",
    "y_rank.rename(columns={'date':'monthly_date'}, inplace=True)\n",
    "\n",
    "#Make datatime format\n",
    "y_rank['monthly_date'] = pd.to_datetime(y_rank.monthly_date)\n",
    "\n",
    "# Create date for merging\n",
    "y_rank['date_merge'] = y_rank['monthly_date']\n",
    "y_rank['date_merge'] = y_rank['date_merge'].dt.strftime(\"%Y/%m\")"
   ]
  },
  {
   "cell_type": "code",
   "execution_count": 23,
   "metadata": {},
   "outputs": [],
   "source": [
    "# Merge on monthly date\n",
    "daily = pd.merge(d_ret1, y_rank, on=['date_merge', 'permno'], how='left')"
   ]
  },
  {
   "cell_type": "code",
   "execution_count": 24,
   "metadata": {},
   "outputs": [
    {
     "data": {
      "text/html": [
       "<div>\n",
       "<style scoped>\n",
       "    .dataframe tbody tr th:only-of-type {\n",
       "        vertical-align: middle;\n",
       "    }\n",
       "\n",
       "    .dataframe tbody tr th {\n",
       "        vertical-align: top;\n",
       "    }\n",
       "\n",
       "    .dataframe thead th {\n",
       "        text-align: right;\n",
       "    }\n",
       "</style>\n",
       "<table border=\"1\" class=\"dataframe\">\n",
       "  <thead>\n",
       "    <tr style=\"text-align: right;\">\n",
       "      <th></th>\n",
       "      <th>permno</th>\n",
       "      <th>daily_date</th>\n",
       "      <th>siccd</th>\n",
       "      <th>dlret</th>\n",
       "      <th>ret</th>\n",
       "      <th>date_merge</th>\n",
       "      <th>monthly_date</th>\n",
       "      <th>y_hat</th>\n",
       "      <th>rank</th>\n",
       "    </tr>\n",
       "  </thead>\n",
       "  <tbody>\n",
       "    <tr>\n",
       "      <th>0</th>\n",
       "      <td>10000</td>\n",
       "      <td>1986-01-07</td>\n",
       "      <td>3990</td>\n",
       "      <td>NaN</td>\n",
       "      <td>C</td>\n",
       "      <td>1986/01</td>\n",
       "      <td>NaT</td>\n",
       "      <td>NaN</td>\n",
       "      <td>NaN</td>\n",
       "    </tr>\n",
       "    <tr>\n",
       "      <th>1</th>\n",
       "      <td>10000</td>\n",
       "      <td>1986-01-08</td>\n",
       "      <td>3990</td>\n",
       "      <td>NaN</td>\n",
       "      <td>-0.024390</td>\n",
       "      <td>1986/01</td>\n",
       "      <td>NaT</td>\n",
       "      <td>NaN</td>\n",
       "      <td>NaN</td>\n",
       "    </tr>\n",
       "    <tr>\n",
       "      <th>2</th>\n",
       "      <td>10000</td>\n",
       "      <td>1986-01-09</td>\n",
       "      <td>3990</td>\n",
       "      <td>NaN</td>\n",
       "      <td>0.000000</td>\n",
       "      <td>1986/01</td>\n",
       "      <td>NaT</td>\n",
       "      <td>NaN</td>\n",
       "      <td>NaN</td>\n",
       "    </tr>\n",
       "    <tr>\n",
       "      <th>3</th>\n",
       "      <td>10000</td>\n",
       "      <td>1986-01-10</td>\n",
       "      <td>3990</td>\n",
       "      <td>NaN</td>\n",
       "      <td>0.000000</td>\n",
       "      <td>1986/01</td>\n",
       "      <td>NaT</td>\n",
       "      <td>NaN</td>\n",
       "      <td>NaN</td>\n",
       "    </tr>\n",
       "    <tr>\n",
       "      <th>4</th>\n",
       "      <td>10000</td>\n",
       "      <td>1986-01-13</td>\n",
       "      <td>3990</td>\n",
       "      <td>NaN</td>\n",
       "      <td>0.050000</td>\n",
       "      <td>1986/01</td>\n",
       "      <td>NaT</td>\n",
       "      <td>NaN</td>\n",
       "      <td>NaN</td>\n",
       "    </tr>\n",
       "  </tbody>\n",
       "</table>\n",
       "</div>"
      ],
      "text/plain": [
       "   permno daily_date siccd dlret        ret date_merge monthly_date  y_hat  \\\n",
       "0   10000 1986-01-07  3990   NaN          C    1986/01          NaT    NaN   \n",
       "1   10000 1986-01-08  3990   NaN  -0.024390    1986/01          NaT    NaN   \n",
       "2   10000 1986-01-09  3990   NaN   0.000000    1986/01          NaT    NaN   \n",
       "3   10000 1986-01-10  3990   NaN   0.000000    1986/01          NaT    NaN   \n",
       "4   10000 1986-01-13  3990   NaN   0.050000    1986/01          NaT    NaN   \n",
       "\n",
       "   rank  \n",
       "0   NaN  \n",
       "1   NaN  \n",
       "2   NaN  \n",
       "3   NaN  \n",
       "4   NaN  "
      ]
     },
     "execution_count": 24,
     "metadata": {},
     "output_type": "execute_result"
    }
   ],
   "source": [
    "# Looking at daily data\n",
    "daily.head()"
   ]
  },
  {
   "cell_type": "code",
   "execution_count": 25,
   "metadata": {},
   "outputs": [],
   "source": [
    "# Filter on non-nans\n",
    "daily_filtered = daily[daily['rank'].notna()]"
   ]
  },
  {
   "cell_type": "code",
   "execution_count": 26,
   "metadata": {},
   "outputs": [
    {
     "name": "stderr",
     "output_type": "stream",
     "text": [
      "<ipython-input-26-17e3c4f42f4c>:2: SettingWithCopyWarning: \n",
      "A value is trying to be set on a copy of a slice from a DataFrame.\n",
      "Try using .loc[row_indexer,col_indexer] = value instead\n",
      "\n",
      "See the caveats in the documentation: https://pandas.pydata.org/pandas-docs/stable/user_guide/indexing.html#returning-a-view-versus-a-copy\n",
      "  daily_filtered['ret'] = daily_filtered['ret'].astype(float)\n"
     ]
    }
   ],
   "source": [
    "# Ensure returns are number format\n",
    "daily_filtered['ret'] = daily_filtered['ret'].astype(float)"
   ]
  },
  {
   "cell_type": "code",
   "execution_count": 27,
   "metadata": {},
   "outputs": [],
   "source": [
    "# Creating dateframe for portfolio calculation\n",
    "port_d_return = pd.DataFrame(daily_filtered[['daily_date', 'ret', 'rank']])"
   ]
  },
  {
   "cell_type": "code",
   "execution_count": 28,
   "metadata": {},
   "outputs": [],
   "source": [
    "# Calculating mean (portfolio return), for a given date, rank\n",
    "port_d_return = port_d_return.groupby(['daily_date','rank'])['ret'].mean().reset_index()\n",
    "port_d_return_t = port_d_return.copy()"
   ]
  },
  {
   "cell_type": "code",
   "execution_count": 29,
   "metadata": {},
   "outputs": [
    {
     "data": {
      "text/html": [
       "<div>\n",
       "<style scoped>\n",
       "    .dataframe tbody tr th:only-of-type {\n",
       "        vertical-align: middle;\n",
       "    }\n",
       "\n",
       "    .dataframe tbody tr th {\n",
       "        vertical-align: top;\n",
       "    }\n",
       "\n",
       "    .dataframe thead th {\n",
       "        text-align: right;\n",
       "    }\n",
       "</style>\n",
       "<table border=\"1\" class=\"dataframe\">\n",
       "  <thead>\n",
       "    <tr style=\"text-align: right;\">\n",
       "      <th></th>\n",
       "      <th>rank</th>\n",
       "      <th>count</th>\n",
       "      <th>mean</th>\n",
       "      <th>std</th>\n",
       "    </tr>\n",
       "  </thead>\n",
       "  <tbody>\n",
       "    <tr>\n",
       "      <th>0</th>\n",
       "      <td>1.0</td>\n",
       "      <td>11350.0</td>\n",
       "      <td>0.000383</td>\n",
       "      <td>0.012621</td>\n",
       "    </tr>\n",
       "    <tr>\n",
       "      <th>1</th>\n",
       "      <td>2.0</td>\n",
       "      <td>11350.0</td>\n",
       "      <td>0.000471</td>\n",
       "      <td>0.011430</td>\n",
       "    </tr>\n",
       "    <tr>\n",
       "      <th>2</th>\n",
       "      <td>3.0</td>\n",
       "      <td>11350.0</td>\n",
       "      <td>0.000508</td>\n",
       "      <td>0.010905</td>\n",
       "    </tr>\n",
       "    <tr>\n",
       "      <th>3</th>\n",
       "      <td>4.0</td>\n",
       "      <td>11350.0</td>\n",
       "      <td>0.000496</td>\n",
       "      <td>0.010651</td>\n",
       "    </tr>\n",
       "    <tr>\n",
       "      <th>4</th>\n",
       "      <td>5.0</td>\n",
       "      <td>11350.0</td>\n",
       "      <td>0.000562</td>\n",
       "      <td>0.010832</td>\n",
       "    </tr>\n",
       "    <tr>\n",
       "      <th>5</th>\n",
       "      <td>6.0</td>\n",
       "      <td>11350.0</td>\n",
       "      <td>0.000550</td>\n",
       "      <td>0.010906</td>\n",
       "    </tr>\n",
       "    <tr>\n",
       "      <th>6</th>\n",
       "      <td>7.0</td>\n",
       "      <td>11350.0</td>\n",
       "      <td>0.000573</td>\n",
       "      <td>0.011206</td>\n",
       "    </tr>\n",
       "    <tr>\n",
       "      <th>7</th>\n",
       "      <td>8.0</td>\n",
       "      <td>11350.0</td>\n",
       "      <td>0.000602</td>\n",
       "      <td>0.011754</td>\n",
       "    </tr>\n",
       "    <tr>\n",
       "      <th>8</th>\n",
       "      <td>9.0</td>\n",
       "      <td>11350.0</td>\n",
       "      <td>0.000690</td>\n",
       "      <td>0.013052</td>\n",
       "    </tr>\n",
       "    <tr>\n",
       "      <th>9</th>\n",
       "      <td>10.0</td>\n",
       "      <td>11350.0</td>\n",
       "      <td>0.000824</td>\n",
       "      <td>0.014787</td>\n",
       "    </tr>\n",
       "  </tbody>\n",
       "</table>\n",
       "</div>"
      ],
      "text/plain": [
       "   rank    count      mean       std\n",
       "0   1.0  11350.0  0.000383  0.012621\n",
       "1   2.0  11350.0  0.000471  0.011430\n",
       "2   3.0  11350.0  0.000508  0.010905\n",
       "3   4.0  11350.0  0.000496  0.010651\n",
       "4   5.0  11350.0  0.000562  0.010832\n",
       "5   6.0  11350.0  0.000550  0.010906\n",
       "6   7.0  11350.0  0.000573  0.011206\n",
       "7   8.0  11350.0  0.000602  0.011754\n",
       "8   9.0  11350.0  0.000690  0.013052\n",
       "9  10.0  11350.0  0.000824  0.014787"
      ]
     },
     "execution_count": 29,
     "metadata": {},
     "output_type": "execute_result"
    }
   ],
   "source": [
    "# Check portfolio return\n",
    "port_d_return_t.groupby('rank')['ret'].describe()[['count','mean','std']].reset_index()"
   ]
  },
  {
   "cell_type": "code",
   "execution_count": 30,
   "metadata": {},
   "outputs": [],
   "source": [
    "# Transpose portfolio layout to have columns as portfolio returns\n",
    "port_d_return_t = port_d_return.pivot(index='daily_date', columns='rank', values='ret')\n",
    "\n",
    "# Add prefix port in front of each column\n",
    "port_d_return_t = port_d_return_t.add_prefix('P')"
   ]
  },
  {
   "cell_type": "code",
   "execution_count": 31,
   "metadata": {},
   "outputs": [
    {
     "data": {
      "text/html": [
       "<div>\n",
       "<style scoped>\n",
       "    .dataframe tbody tr th:only-of-type {\n",
       "        vertical-align: middle;\n",
       "    }\n",
       "\n",
       "    .dataframe tbody tr th {\n",
       "        vertical-align: top;\n",
       "    }\n",
       "\n",
       "    .dataframe thead th {\n",
       "        text-align: right;\n",
       "    }\n",
       "</style>\n",
       "<table border=\"1\" class=\"dataframe\">\n",
       "  <thead>\n",
       "    <tr style=\"text-align: right;\">\n",
       "      <th>rank</th>\n",
       "      <th>P1.0</th>\n",
       "      <th>P2.0</th>\n",
       "      <th>P3.0</th>\n",
       "      <th>P4.0</th>\n",
       "      <th>P5.0</th>\n",
       "      <th>P6.0</th>\n",
       "      <th>P7.0</th>\n",
       "      <th>P8.0</th>\n",
       "      <th>P9.0</th>\n",
       "      <th>P10.0</th>\n",
       "    </tr>\n",
       "    <tr>\n",
       "      <th>daily_date</th>\n",
       "      <th></th>\n",
       "      <th></th>\n",
       "      <th></th>\n",
       "      <th></th>\n",
       "      <th></th>\n",
       "      <th></th>\n",
       "      <th></th>\n",
       "      <th></th>\n",
       "      <th></th>\n",
       "      <th></th>\n",
       "    </tr>\n",
       "  </thead>\n",
       "  <tbody>\n",
       "    <tr>\n",
       "      <th>1976-01-02</th>\n",
       "      <td>0.006738</td>\n",
       "      <td>0.011817</td>\n",
       "      <td>0.009438</td>\n",
       "      <td>0.009330</td>\n",
       "      <td>0.008639</td>\n",
       "      <td>0.007910</td>\n",
       "      <td>0.006683</td>\n",
       "      <td>0.008224</td>\n",
       "      <td>0.005939</td>\n",
       "      <td>0.002824</td>\n",
       "    </tr>\n",
       "    <tr>\n",
       "      <th>1976-01-05</th>\n",
       "      <td>0.016448</td>\n",
       "      <td>0.014676</td>\n",
       "      <td>0.017907</td>\n",
       "      <td>0.021792</td>\n",
       "      <td>0.022432</td>\n",
       "      <td>0.019771</td>\n",
       "      <td>0.015957</td>\n",
       "      <td>0.015352</td>\n",
       "      <td>0.017298</td>\n",
       "      <td>0.015593</td>\n",
       "    </tr>\n",
       "    <tr>\n",
       "      <th>1976-01-06</th>\n",
       "      <td>0.016570</td>\n",
       "      <td>0.016324</td>\n",
       "      <td>0.014518</td>\n",
       "      <td>0.010212</td>\n",
       "      <td>0.013775</td>\n",
       "      <td>0.011390</td>\n",
       "      <td>0.010069</td>\n",
       "      <td>0.012719</td>\n",
       "      <td>0.016626</td>\n",
       "      <td>0.020221</td>\n",
       "    </tr>\n",
       "    <tr>\n",
       "      <th>1976-01-07</th>\n",
       "      <td>0.006484</td>\n",
       "      <td>0.001816</td>\n",
       "      <td>0.007775</td>\n",
       "      <td>0.005127</td>\n",
       "      <td>0.006212</td>\n",
       "      <td>0.005975</td>\n",
       "      <td>0.005786</td>\n",
       "      <td>0.009859</td>\n",
       "      <td>0.013412</td>\n",
       "      <td>0.015671</td>\n",
       "    </tr>\n",
       "    <tr>\n",
       "      <th>1976-01-08</th>\n",
       "      <td>0.004569</td>\n",
       "      <td>0.010558</td>\n",
       "      <td>0.005687</td>\n",
       "      <td>0.009325</td>\n",
       "      <td>0.005191</td>\n",
       "      <td>0.007027</td>\n",
       "      <td>0.011425</td>\n",
       "      <td>0.003769</td>\n",
       "      <td>0.009764</td>\n",
       "      <td>0.006901</td>\n",
       "    </tr>\n",
       "  </tbody>\n",
       "</table>\n",
       "</div>"
      ],
      "text/plain": [
       "rank            P1.0      P2.0      P3.0      P4.0      P5.0      P6.0  \\\n",
       "daily_date                                                               \n",
       "1976-01-02  0.006738  0.011817  0.009438  0.009330  0.008639  0.007910   \n",
       "1976-01-05  0.016448  0.014676  0.017907  0.021792  0.022432  0.019771   \n",
       "1976-01-06  0.016570  0.016324  0.014518  0.010212  0.013775  0.011390   \n",
       "1976-01-07  0.006484  0.001816  0.007775  0.005127  0.006212  0.005975   \n",
       "1976-01-08  0.004569  0.010558  0.005687  0.009325  0.005191  0.007027   \n",
       "\n",
       "rank            P7.0      P8.0      P9.0     P10.0  \n",
       "daily_date                                          \n",
       "1976-01-02  0.006683  0.008224  0.005939  0.002824  \n",
       "1976-01-05  0.015957  0.015352  0.017298  0.015593  \n",
       "1976-01-06  0.010069  0.012719  0.016626  0.020221  \n",
       "1976-01-07  0.005786  0.009859  0.013412  0.015671  \n",
       "1976-01-08  0.011425  0.003769  0.009764  0.006901  "
      ]
     },
     "execution_count": 31,
     "metadata": {},
     "output_type": "execute_result"
    }
   ],
   "source": [
    "port_d_return_t.head()"
   ]
  },
  {
   "cell_type": "code",
   "execution_count": 32,
   "metadata": {},
   "outputs": [],
   "source": [
    "# Creating long-short portfolio\n",
    "port_d_return_t = port_d_return_t.rename(columns={'P1.0':'losers', 'P10.0':'winners'})\n",
    "port_d_return_t['long_short'] = port_d_return_t.winners - port_d_return_t.losers"
   ]
  },
  {
   "cell_type": "code",
   "execution_count": 33,
   "metadata": {},
   "outputs": [
    {
     "data": {
      "text/html": [
       "<div>\n",
       "<style scoped>\n",
       "    .dataframe tbody tr th:only-of-type {\n",
       "        vertical-align: middle;\n",
       "    }\n",
       "\n",
       "    .dataframe tbody tr th {\n",
       "        vertical-align: top;\n",
       "    }\n",
       "\n",
       "    .dataframe thead th {\n",
       "        text-align: right;\n",
       "    }\n",
       "</style>\n",
       "<table border=\"1\" class=\"dataframe\">\n",
       "  <thead>\n",
       "    <tr style=\"text-align: right;\">\n",
       "      <th>rank</th>\n",
       "      <th>losers</th>\n",
       "      <th>P2.0</th>\n",
       "      <th>P3.0</th>\n",
       "      <th>P4.0</th>\n",
       "      <th>P5.0</th>\n",
       "      <th>P6.0</th>\n",
       "      <th>P7.0</th>\n",
       "      <th>P8.0</th>\n",
       "      <th>P9.0</th>\n",
       "      <th>winners</th>\n",
       "      <th>long_short</th>\n",
       "    </tr>\n",
       "    <tr>\n",
       "      <th>daily_date</th>\n",
       "      <th></th>\n",
       "      <th></th>\n",
       "      <th></th>\n",
       "      <th></th>\n",
       "      <th></th>\n",
       "      <th></th>\n",
       "      <th></th>\n",
       "      <th></th>\n",
       "      <th></th>\n",
       "      <th></th>\n",
       "      <th></th>\n",
       "    </tr>\n",
       "  </thead>\n",
       "  <tbody>\n",
       "    <tr>\n",
       "      <th>1976-01-02</th>\n",
       "      <td>0.006738</td>\n",
       "      <td>0.011817</td>\n",
       "      <td>0.009438</td>\n",
       "      <td>0.009330</td>\n",
       "      <td>0.008639</td>\n",
       "      <td>0.007910</td>\n",
       "      <td>0.006683</td>\n",
       "      <td>0.008224</td>\n",
       "      <td>0.005939</td>\n",
       "      <td>0.002824</td>\n",
       "      <td>-0.003914</td>\n",
       "    </tr>\n",
       "    <tr>\n",
       "      <th>1976-01-05</th>\n",
       "      <td>0.016448</td>\n",
       "      <td>0.014676</td>\n",
       "      <td>0.017907</td>\n",
       "      <td>0.021792</td>\n",
       "      <td>0.022432</td>\n",
       "      <td>0.019771</td>\n",
       "      <td>0.015957</td>\n",
       "      <td>0.015352</td>\n",
       "      <td>0.017298</td>\n",
       "      <td>0.015593</td>\n",
       "      <td>-0.000855</td>\n",
       "    </tr>\n",
       "    <tr>\n",
       "      <th>1976-01-06</th>\n",
       "      <td>0.016570</td>\n",
       "      <td>0.016324</td>\n",
       "      <td>0.014518</td>\n",
       "      <td>0.010212</td>\n",
       "      <td>0.013775</td>\n",
       "      <td>0.011390</td>\n",
       "      <td>0.010069</td>\n",
       "      <td>0.012719</td>\n",
       "      <td>0.016626</td>\n",
       "      <td>0.020221</td>\n",
       "      <td>0.003652</td>\n",
       "    </tr>\n",
       "    <tr>\n",
       "      <th>1976-01-07</th>\n",
       "      <td>0.006484</td>\n",
       "      <td>0.001816</td>\n",
       "      <td>0.007775</td>\n",
       "      <td>0.005127</td>\n",
       "      <td>0.006212</td>\n",
       "      <td>0.005975</td>\n",
       "      <td>0.005786</td>\n",
       "      <td>0.009859</td>\n",
       "      <td>0.013412</td>\n",
       "      <td>0.015671</td>\n",
       "      <td>0.009187</td>\n",
       "    </tr>\n",
       "    <tr>\n",
       "      <th>1976-01-08</th>\n",
       "      <td>0.004569</td>\n",
       "      <td>0.010558</td>\n",
       "      <td>0.005687</td>\n",
       "      <td>0.009325</td>\n",
       "      <td>0.005191</td>\n",
       "      <td>0.007027</td>\n",
       "      <td>0.011425</td>\n",
       "      <td>0.003769</td>\n",
       "      <td>0.009764</td>\n",
       "      <td>0.006901</td>\n",
       "      <td>0.002332</td>\n",
       "    </tr>\n",
       "    <tr>\n",
       "      <th>...</th>\n",
       "      <td>...</td>\n",
       "      <td>...</td>\n",
       "      <td>...</td>\n",
       "      <td>...</td>\n",
       "      <td>...</td>\n",
       "      <td>...</td>\n",
       "      <td>...</td>\n",
       "      <td>...</td>\n",
       "      <td>...</td>\n",
       "      <td>...</td>\n",
       "      <td>...</td>\n",
       "    </tr>\n",
       "    <tr>\n",
       "      <th>2020-12-24</th>\n",
       "      <td>0.005737</td>\n",
       "      <td>0.004170</td>\n",
       "      <td>0.003559</td>\n",
       "      <td>0.005007</td>\n",
       "      <td>0.000941</td>\n",
       "      <td>0.002003</td>\n",
       "      <td>-0.000434</td>\n",
       "      <td>0.000302</td>\n",
       "      <td>-0.001444</td>\n",
       "      <td>-0.002921</td>\n",
       "      <td>-0.008657</td>\n",
       "    </tr>\n",
       "    <tr>\n",
       "      <th>2020-12-28</th>\n",
       "      <td>0.006195</td>\n",
       "      <td>0.004060</td>\n",
       "      <td>-0.000397</td>\n",
       "      <td>-0.000705</td>\n",
       "      <td>-0.004408</td>\n",
       "      <td>0.002720</td>\n",
       "      <td>-0.002912</td>\n",
       "      <td>-0.004699</td>\n",
       "      <td>-0.003557</td>\n",
       "      <td>-0.015348</td>\n",
       "      <td>-0.021543</td>\n",
       "    </tr>\n",
       "    <tr>\n",
       "      <th>2020-12-29</th>\n",
       "      <td>-0.001550</td>\n",
       "      <td>-0.000428</td>\n",
       "      <td>-0.002402</td>\n",
       "      <td>-0.002708</td>\n",
       "      <td>-0.004079</td>\n",
       "      <td>-0.005113</td>\n",
       "      <td>-0.005941</td>\n",
       "      <td>-0.005402</td>\n",
       "      <td>-0.007445</td>\n",
       "      <td>-0.011205</td>\n",
       "      <td>-0.009655</td>\n",
       "    </tr>\n",
       "    <tr>\n",
       "      <th>2020-12-30</th>\n",
       "      <td>0.000291</td>\n",
       "      <td>0.001125</td>\n",
       "      <td>0.002158</td>\n",
       "      <td>0.004038</td>\n",
       "      <td>0.002928</td>\n",
       "      <td>0.005746</td>\n",
       "      <td>0.006992</td>\n",
       "      <td>0.009797</td>\n",
       "      <td>0.006870</td>\n",
       "      <td>0.016512</td>\n",
       "      <td>0.016221</td>\n",
       "    </tr>\n",
       "    <tr>\n",
       "      <th>2020-12-31</th>\n",
       "      <td>0.012125</td>\n",
       "      <td>0.009520</td>\n",
       "      <td>0.010073</td>\n",
       "      <td>0.006038</td>\n",
       "      <td>0.005157</td>\n",
       "      <td>0.006256</td>\n",
       "      <td>0.005445</td>\n",
       "      <td>0.003790</td>\n",
       "      <td>0.003011</td>\n",
       "      <td>-0.002496</td>\n",
       "      <td>-0.014621</td>\n",
       "    </tr>\n",
       "  </tbody>\n",
       "</table>\n",
       "<p>11353 rows × 11 columns</p>\n",
       "</div>"
      ],
      "text/plain": [
       "rank          losers      P2.0      P3.0      P4.0      P5.0      P6.0  \\\n",
       "daily_date                                                               \n",
       "1976-01-02  0.006738  0.011817  0.009438  0.009330  0.008639  0.007910   \n",
       "1976-01-05  0.016448  0.014676  0.017907  0.021792  0.022432  0.019771   \n",
       "1976-01-06  0.016570  0.016324  0.014518  0.010212  0.013775  0.011390   \n",
       "1976-01-07  0.006484  0.001816  0.007775  0.005127  0.006212  0.005975   \n",
       "1976-01-08  0.004569  0.010558  0.005687  0.009325  0.005191  0.007027   \n",
       "...              ...       ...       ...       ...       ...       ...   \n",
       "2020-12-24  0.005737  0.004170  0.003559  0.005007  0.000941  0.002003   \n",
       "2020-12-28  0.006195  0.004060 -0.000397 -0.000705 -0.004408  0.002720   \n",
       "2020-12-29 -0.001550 -0.000428 -0.002402 -0.002708 -0.004079 -0.005113   \n",
       "2020-12-30  0.000291  0.001125  0.002158  0.004038  0.002928  0.005746   \n",
       "2020-12-31  0.012125  0.009520  0.010073  0.006038  0.005157  0.006256   \n",
       "\n",
       "rank            P7.0      P8.0      P9.0   winners  long_short  \n",
       "daily_date                                                      \n",
       "1976-01-02  0.006683  0.008224  0.005939  0.002824   -0.003914  \n",
       "1976-01-05  0.015957  0.015352  0.017298  0.015593   -0.000855  \n",
       "1976-01-06  0.010069  0.012719  0.016626  0.020221    0.003652  \n",
       "1976-01-07  0.005786  0.009859  0.013412  0.015671    0.009187  \n",
       "1976-01-08  0.011425  0.003769  0.009764  0.006901    0.002332  \n",
       "...              ...       ...       ...       ...         ...  \n",
       "2020-12-24 -0.000434  0.000302 -0.001444 -0.002921   -0.008657  \n",
       "2020-12-28 -0.002912 -0.004699 -0.003557 -0.015348   -0.021543  \n",
       "2020-12-29 -0.005941 -0.005402 -0.007445 -0.011205   -0.009655  \n",
       "2020-12-30  0.006992  0.009797  0.006870  0.016512    0.016221  \n",
       "2020-12-31  0.005445  0.003790  0.003011 -0.002496   -0.014621  \n",
       "\n",
       "[11353 rows x 11 columns]"
      ]
     },
     "execution_count": 33,
     "metadata": {},
     "output_type": "execute_result"
    }
   ],
   "source": [
    "port_d_return_t"
   ]
  },
  {
   "cell_type": "code",
   "execution_count": 34,
   "metadata": {},
   "outputs": [
    {
     "data": {
      "text/plain": [
       "3"
      ]
     },
     "execution_count": 34,
     "metadata": {},
     "output_type": "execute_result"
    }
   ],
   "source": [
    "# Ensuring no NAN-values\n",
    "port_d_return_t['long_short'].isnull().sum()"
   ]
  },
  {
   "cell_type": "code",
   "execution_count": 35,
   "metadata": {},
   "outputs": [
    {
     "data": {
      "text/plain": [
       "0"
      ]
     },
     "execution_count": 35,
     "metadata": {},
     "output_type": "execute_result"
    }
   ],
   "source": [
    "# OBS FILLING WITH NA - should not be necessary with new file\n",
    "port_d_return_t['long_short'] = port_d_return_t['long_short'].fillna(0)\n",
    "port_d_return_t['long_short'].isnull().sum()"
   ]
  },
  {
   "cell_type": "code",
   "execution_count": 36,
   "metadata": {},
   "outputs": [
    {
     "data": {
      "text/plain": [
       "daily_date\n",
       "1976-01-02   -0.003914\n",
       "1976-01-05   -0.000855\n",
       "1976-01-06    0.003652\n",
       "1976-01-07    0.009187\n",
       "1976-01-08    0.002332\n",
       "                ...   \n",
       "2020-12-24   -0.008657\n",
       "2020-12-28   -0.021543\n",
       "2020-12-29   -0.009655\n",
       "2020-12-30    0.016221\n",
       "2020-12-31   -0.014621\n",
       "Name: long_short, Length: 11353, dtype: float64"
      ]
     },
     "execution_count": 36,
     "metadata": {},
     "output_type": "execute_result"
    }
   ],
   "source": [
    "# Defining long_short return\n",
    "long_short_ret = port_d_return_t['long_short']\n",
    "long_short_ret"
   ]
  },
  {
   "cell_type": "code",
   "execution_count": 37,
   "metadata": {},
   "outputs": [],
   "source": [
    "# Dropping NA values\n",
    "long_short_ret = long_short_ret[long_short_ret.index != '1985-09-27']\n",
    "long_short_ret = long_short_ret[long_short_ret.index != '2012-10-29']\n",
    "long_short_ret = long_short_ret[long_short_ret.index != '2017-09-30']"
   ]
  },
  {
   "cell_type": "code",
   "execution_count": 38,
   "metadata": {},
   "outputs": [],
   "source": [
    "# Save to CSV\n",
    "long_short_ret.to_csv('lstm_results.csv', index=True)"
   ]
  },
  {
   "cell_type": "code",
   "execution_count": 39,
   "metadata": {},
   "outputs": [
    {
     "data": {
      "text/plain": [
       "daily_date\n",
       "1976-01-02   -0.003914\n",
       "1976-01-05   -0.000855\n",
       "1976-01-06    0.003652\n",
       "1976-01-07    0.009187\n",
       "1976-01-08    0.002332\n",
       "                ...   \n",
       "2020-12-24   -0.008657\n",
       "2020-12-28   -0.021543\n",
       "2020-12-29   -0.009655\n",
       "2020-12-30    0.016221\n",
       "2020-12-31   -0.014621\n",
       "Name: long_short, Length: 11350, dtype: float64"
      ]
     },
     "execution_count": 39,
     "metadata": {},
     "output_type": "execute_result"
    }
   ],
   "source": [
    "long_short_ret"
   ]
  },
  {
   "cell_type": "code",
   "execution_count": null,
   "metadata": {},
   "outputs": [],
   "source": []
  }
 ],
 "metadata": {
  "kernelspec": {
   "display_name": "Python 3",
   "language": "python",
   "name": "python3"
  },
  "language_info": {
   "codemirror_mode": {
    "name": "ipython",
    "version": 3
   },
   "file_extension": ".py",
   "mimetype": "text/x-python",
   "name": "python",
   "nbconvert_exporter": "python",
   "pygments_lexer": "ipython3",
   "version": "3.8.5"
  }
 },
 "nbformat": 4,
 "nbformat_minor": 4
}
