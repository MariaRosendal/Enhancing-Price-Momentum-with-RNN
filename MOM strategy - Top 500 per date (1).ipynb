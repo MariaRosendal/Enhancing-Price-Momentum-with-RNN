{
 "cells": [
  {
   "cell_type": "markdown",
   "metadata": {},
   "source": [
    "## 1. Import Relevant Packages"
   ]
  },
  {
   "cell_type": "code",
   "execution_count": 2,
   "metadata": {},
   "outputs": [],
   "source": [
    "import pandas as pd\n",
    "import numpy as np\n",
    "from pandas.tseries.offsets import *\n",
    "from scipy import stats\n",
    "import datetime as dt\n",
    "\n",
    "import matplotlib.pyplot as plt\n",
    "import statsmodels.api as sm"
   ]
  },
  {
   "cell_type": "markdown",
   "metadata": {},
   "source": [
    "## 2. Query CRSP Database"
   ]
  },
  {
   "cell_type": "code",
   "execution_count": 3,
   "metadata": {},
   "outputs": [],
   "source": [
    "# We use monthly return data from common stocks (share code 10 and 11)\n",
    "\n",
    "# OBS: Returns are pulled for exchcd = -2,-1, 0 to address the issue that stocks temp stopped trading. \n",
    "# Without these, the non-trading months will be tossed out in the output\n",
    "\n",
    "# Source: WRDS\n",
    "# -2 Halted by the NYSE or AMEX\n",
    "# -1 Suspended by the NYSE, AMEX, or NASDAQ\n",
    "# 0 Not Trading on NYSE, AMEX, or NASDAQ\n",
    "\n",
    "# Stocks are from New York Stock Exchange (exchcd = 1)"
   ]
  },
  {
   "cell_type": "code",
   "execution_count": 4,
   "metadata": {},
   "outputs": [],
   "source": [
    "# Change to NYSE_m1\n",
    "crsp_m = pd.read_csv('NYSE_m1.csv', low_memory=False)"
   ]
  },
  {
   "cell_type": "code",
   "execution_count": 5,
   "metadata": {},
   "outputs": [],
   "source": [
    "# Make Python datetime format\n",
    "crsp_m['date'] =  pd.to_datetime(crsp_m['date'])\n",
    "\n",
    "# Sample starts in 1963\n",
    "crsp_m = crsp_m[crsp_m['date'] >= '1963-01-31']"
   ]
  },
  {
   "cell_type": "code",
   "execution_count": 6,
   "metadata": {},
   "outputs": [],
   "source": [
    "# Make all column names lower case\n",
    "crsp_m.columns = crsp_m.columns.str.lower()"
   ]
  },
  {
   "cell_type": "code",
   "execution_count": 7,
   "metadata": {},
   "outputs": [],
   "source": [
    "# Change variable format to int\n",
    "crsp_m[['permno','shrcd','exchcd']]=\\\n",
    "    crsp_m[['permno','shrcd','exchcd']].astype(int)"
   ]
  },
  {
   "cell_type": "code",
   "execution_count": 8,
   "metadata": {},
   "outputs": [],
   "source": [
    "# Forcing errors to become NaN to convert to int\n",
    "crsp_m['ret'] = pd.to_numeric(crsp_m['ret'], errors='coerce')\n",
    "crsp_m['dlret'] = pd.to_numeric(crsp_m['dlret'], errors='coerce') \n",
    "\n",
    "# Fill-in delisting return as last return\n",
    "crsp_m['ret'] = crsp_m['ret'].fillna(value=crsp_m['dlret'])\n",
    "\n",
    "# OBS!: fill in missing return with 0\n",
    "crsp_m['ret'] = crsp_m['ret'].fillna(0)"
   ]
  },
  {
   "cell_type": "code",
   "execution_count": 9,
   "metadata": {},
   "outputs": [
    {
     "name": "stderr",
     "output_type": "stream",
     "text": [
      "/opt/anaconda3/lib/python3.8/site-packages/pandas/core/series.py:726: RuntimeWarning: divide by zero encountered in log\n",
      "  result = getattr(ufunc, method)(*inputs, **kwargs)\n"
     ]
    }
   ],
   "source": [
    "# create log return for future usage\n",
    "crsp_m['logret'] = np.log(1+crsp_m['ret'])"
   ]
  },
  {
   "cell_type": "code",
   "execution_count": 10,
   "metadata": {},
   "outputs": [
    {
     "data": {
      "text/html": [
       "<div>\n",
       "<style scoped>\n",
       "    .dataframe tbody tr th:only-of-type {\n",
       "        vertical-align: middle;\n",
       "    }\n",
       "\n",
       "    .dataframe tbody tr th {\n",
       "        vertical-align: top;\n",
       "    }\n",
       "\n",
       "    .dataframe thead th {\n",
       "        text-align: right;\n",
       "    }\n",
       "</style>\n",
       "<table border=\"1\" class=\"dataframe\">\n",
       "  <thead>\n",
       "    <tr style=\"text-align: right;\">\n",
       "      <th></th>\n",
       "      <th>permno</th>\n",
       "      <th>date</th>\n",
       "      <th>shrcd</th>\n",
       "      <th>exchcd</th>\n",
       "      <th>siccd</th>\n",
       "      <th>comnam</th>\n",
       "      <th>dlret</th>\n",
       "      <th>prc</th>\n",
       "      <th>ret</th>\n",
       "      <th>shrout</th>\n",
       "      <th>logret</th>\n",
       "    </tr>\n",
       "  </thead>\n",
       "  <tbody>\n",
       "    <tr>\n",
       "      <th>1385590</th>\n",
       "      <td>93426</td>\n",
       "      <td>2020-08-31</td>\n",
       "      <td>11</td>\n",
       "      <td>1</td>\n",
       "      <td>3676</td>\n",
       "      <td>VISHAY PRECISION GROUP INC</td>\n",
       "      <td>NaN</td>\n",
       "      <td>24.91</td>\n",
       "      <td>-0.021218</td>\n",
       "      <td>12552.0</td>\n",
       "      <td>-0.021446</td>\n",
       "    </tr>\n",
       "    <tr>\n",
       "      <th>1385591</th>\n",
       "      <td>93426</td>\n",
       "      <td>2020-09-30</td>\n",
       "      <td>11</td>\n",
       "      <td>1</td>\n",
       "      <td>3676</td>\n",
       "      <td>VISHAY PRECISION GROUP INC</td>\n",
       "      <td>NaN</td>\n",
       "      <td>25.32</td>\n",
       "      <td>0.016459</td>\n",
       "      <td>12552.0</td>\n",
       "      <td>0.016325</td>\n",
       "    </tr>\n",
       "    <tr>\n",
       "      <th>1385592</th>\n",
       "      <td>93426</td>\n",
       "      <td>2020-10-30</td>\n",
       "      <td>11</td>\n",
       "      <td>1</td>\n",
       "      <td>3676</td>\n",
       "      <td>VISHAY PRECISION GROUP INC</td>\n",
       "      <td>NaN</td>\n",
       "      <td>23.89</td>\n",
       "      <td>-0.056477</td>\n",
       "      <td>12552.0</td>\n",
       "      <td>-0.058135</td>\n",
       "    </tr>\n",
       "    <tr>\n",
       "      <th>1385593</th>\n",
       "      <td>93426</td>\n",
       "      <td>2020-11-30</td>\n",
       "      <td>11</td>\n",
       "      <td>1</td>\n",
       "      <td>3676</td>\n",
       "      <td>VISHAY PRECISION GROUP INC</td>\n",
       "      <td>NaN</td>\n",
       "      <td>29.25</td>\n",
       "      <td>0.224362</td>\n",
       "      <td>12552.0</td>\n",
       "      <td>0.202420</td>\n",
       "    </tr>\n",
       "    <tr>\n",
       "      <th>1385594</th>\n",
       "      <td>93426</td>\n",
       "      <td>2020-12-31</td>\n",
       "      <td>11</td>\n",
       "      <td>1</td>\n",
       "      <td>3676</td>\n",
       "      <td>VISHAY PRECISION GROUP INC</td>\n",
       "      <td>NaN</td>\n",
       "      <td>31.48</td>\n",
       "      <td>0.076239</td>\n",
       "      <td>12552.0</td>\n",
       "      <td>0.073473</td>\n",
       "    </tr>\n",
       "  </tbody>\n",
       "</table>\n",
       "</div>"
      ],
      "text/plain": [
       "         permno       date  shrcd  exchcd siccd                      comnam  \\\n",
       "1385590   93426 2020-08-31     11       1  3676  VISHAY PRECISION GROUP INC   \n",
       "1385591   93426 2020-09-30     11       1  3676  VISHAY PRECISION GROUP INC   \n",
       "1385592   93426 2020-10-30     11       1  3676  VISHAY PRECISION GROUP INC   \n",
       "1385593   93426 2020-11-30     11       1  3676  VISHAY PRECISION GROUP INC   \n",
       "1385594   93426 2020-12-31     11       1  3676  VISHAY PRECISION GROUP INC   \n",
       "\n",
       "         dlret    prc       ret   shrout    logret  \n",
       "1385590    NaN  24.91 -0.021218  12552.0 -0.021446  \n",
       "1385591    NaN  25.32  0.016459  12552.0  0.016325  \n",
       "1385592    NaN  23.89 -0.056477  12552.0 -0.058135  \n",
       "1385593    NaN  29.25  0.224362  12552.0  0.202420  \n",
       "1385594    NaN  31.48  0.076239  12552.0  0.073473  "
      ]
     },
     "execution_count": 10,
     "metadata": {},
     "output_type": "execute_result"
    }
   ],
   "source": [
    "crsp_m.tail()"
   ]
  },
  {
   "cell_type": "code",
   "execution_count": 11,
   "metadata": {},
   "outputs": [
    {
     "name": "stderr",
     "output_type": "stream",
     "text": [
      "<ipython-input-11-cf7dbd6d3610>:4: SettingWithCopyWarning: \n",
      "A value is trying to be set on a copy of a slice from a DataFrame.\n",
      "Try using .loc[row_indexer,col_indexer] = value instead\n",
      "\n",
      "See the caveats in the documentation: https://pandas.pydata.org/pandas-docs/stable/user_guide/indexing.html#returning-a-view-versus-a-copy\n",
      "  mkt_cap_df['prc'] = mkt_cap_df['prc'].fillna(0).astype(np.int)\n",
      "<ipython-input-11-cf7dbd6d3610>:5: SettingWithCopyWarning: \n",
      "A value is trying to be set on a copy of a slice from a DataFrame.\n",
      "Try using .loc[row_indexer,col_indexer] = value instead\n",
      "\n",
      "See the caveats in the documentation: https://pandas.pydata.org/pandas-docs/stable/user_guide/indexing.html#returning-a-view-versus-a-copy\n",
      "  mkt_cap_df['shrout'] = mkt_cap_df['shrout'].fillna(0).astype(np.int)\n",
      "<ipython-input-11-cf7dbd6d3610>:13: SettingWithCopyWarning: \n",
      "A value is trying to be set on a copy of a slice from a DataFrame.\n",
      "Try using .loc[row_indexer,col_indexer] = value instead\n",
      "\n",
      "See the caveats in the documentation: https://pandas.pydata.org/pandas-docs/stable/user_guide/indexing.html#returning-a-view-versus-a-copy\n",
      "  mkt_cap_df['mkt_cap'] =  np.abs(mkt_cap_df['prc'] * mkt_cap_df['shrout'])\n"
     ]
    }
   ],
   "source": [
    "# Making dataframe w. market cap for later use\n",
    "# OBS: FILL NA WITH 0 (should we forward-fill on the delisting date, and then delete all NaN's instead)\n",
    "mkt_cap_df = crsp_m[['permno', 'date', 'prc', 'shrout']]\n",
    "mkt_cap_df['prc'] = mkt_cap_df['prc'].fillna(0).astype(np.int)\n",
    "mkt_cap_df['shrout'] = mkt_cap_df['shrout'].fillna(0).astype(np.int)\n",
    "\n",
    "#mkt_cap_df = mkt_cap_df[mkt_cap_df['prc'].astype('int')]\n",
    "#mkt_cap_df['prc'] = pd.to_numeric(mkt_cap_df['prc'], errors='coerce')\n",
    "#mkt_cap_df['shrout'] = pd.to_numeric(mkt_cap_df['shrout'], errors='coerce')\n",
    "\n",
    "# Calculating market cap\n",
    "# OBS: MKT_CAP = prc and shares outstanding on the same day\n",
    "# 'abs' is used as CRSP but '-' infront of value when no price is available and the bid/ask avg. is used instead \n",
    "mkt_cap_df['mkt_cap'] =  np.abs(mkt_cap_df['prc'] * mkt_cap_df['shrout'])"
   ]
  },
  {
   "cell_type": "code",
   "execution_count": 12,
   "metadata": {},
   "outputs": [
    {
     "name": "stdout",
     "output_type": "stream",
     "text": [
      "<class 'pandas.core.frame.DataFrame'>\n",
      "Int64Index: 1033583 entries, 396 to 1385594\n",
      "Data columns (total 5 columns):\n",
      " #   Column   Non-Null Count    Dtype         \n",
      "---  ------   --------------    -----         \n",
      " 0   permno   1033583 non-null  int64         \n",
      " 1   date     1033583 non-null  datetime64[ns]\n",
      " 2   prc      1033583 non-null  int64         \n",
      " 3   shrout   1033583 non-null  int64         \n",
      " 4   mkt_cap  1033583 non-null  int64         \n",
      "dtypes: datetime64[ns](1), int64(4)\n",
      "memory usage: 47.3 MB\n"
     ]
    }
   ],
   "source": [
    "mkt_cap_df.info()"
   ]
  },
  {
   "cell_type": "code",
   "execution_count": 13,
   "metadata": {},
   "outputs": [
    {
     "data": {
      "text/html": [
       "<div>\n",
       "<style scoped>\n",
       "    .dataframe tbody tr th:only-of-type {\n",
       "        vertical-align: middle;\n",
       "    }\n",
       "\n",
       "    .dataframe tbody tr th {\n",
       "        vertical-align: top;\n",
       "    }\n",
       "\n",
       "    .dataframe thead th {\n",
       "        text-align: right;\n",
       "    }\n",
       "</style>\n",
       "<table border=\"1\" class=\"dataframe\">\n",
       "  <thead>\n",
       "    <tr style=\"text-align: right;\">\n",
       "      <th></th>\n",
       "      <th>permno</th>\n",
       "      <th>date</th>\n",
       "      <th>prc</th>\n",
       "      <th>shrout</th>\n",
       "      <th>mkt_cap</th>\n",
       "    </tr>\n",
       "  </thead>\n",
       "  <tbody>\n",
       "    <tr>\n",
       "      <th>396</th>\n",
       "      <td>10006</td>\n",
       "      <td>1963-01-31</td>\n",
       "      <td>80</td>\n",
       "      <td>1453</td>\n",
       "      <td>116240</td>\n",
       "    </tr>\n",
       "    <tr>\n",
       "      <th>397</th>\n",
       "      <td>10006</td>\n",
       "      <td>1963-02-28</td>\n",
       "      <td>83</td>\n",
       "      <td>1453</td>\n",
       "      <td>120599</td>\n",
       "    </tr>\n",
       "    <tr>\n",
       "      <th>398</th>\n",
       "      <td>10006</td>\n",
       "      <td>1963-03-29</td>\n",
       "      <td>82</td>\n",
       "      <td>1453</td>\n",
       "      <td>119146</td>\n",
       "    </tr>\n",
       "    <tr>\n",
       "      <th>399</th>\n",
       "      <td>10006</td>\n",
       "      <td>1963-04-30</td>\n",
       "      <td>89</td>\n",
       "      <td>1453</td>\n",
       "      <td>129317</td>\n",
       "    </tr>\n",
       "    <tr>\n",
       "      <th>400</th>\n",
       "      <td>10006</td>\n",
       "      <td>1963-05-31</td>\n",
       "      <td>97</td>\n",
       "      <td>1453</td>\n",
       "      <td>140941</td>\n",
       "    </tr>\n",
       "    <tr>\n",
       "      <th>...</th>\n",
       "      <td>...</td>\n",
       "      <td>...</td>\n",
       "      <td>...</td>\n",
       "      <td>...</td>\n",
       "      <td>...</td>\n",
       "    </tr>\n",
       "    <tr>\n",
       "      <th>1385590</th>\n",
       "      <td>93426</td>\n",
       "      <td>2020-08-31</td>\n",
       "      <td>24</td>\n",
       "      <td>12552</td>\n",
       "      <td>301248</td>\n",
       "    </tr>\n",
       "    <tr>\n",
       "      <th>1385591</th>\n",
       "      <td>93426</td>\n",
       "      <td>2020-09-30</td>\n",
       "      <td>25</td>\n",
       "      <td>12552</td>\n",
       "      <td>313800</td>\n",
       "    </tr>\n",
       "    <tr>\n",
       "      <th>1385592</th>\n",
       "      <td>93426</td>\n",
       "      <td>2020-10-30</td>\n",
       "      <td>23</td>\n",
       "      <td>12552</td>\n",
       "      <td>288696</td>\n",
       "    </tr>\n",
       "    <tr>\n",
       "      <th>1385593</th>\n",
       "      <td>93426</td>\n",
       "      <td>2020-11-30</td>\n",
       "      <td>29</td>\n",
       "      <td>12552</td>\n",
       "      <td>364008</td>\n",
       "    </tr>\n",
       "    <tr>\n",
       "      <th>1385594</th>\n",
       "      <td>93426</td>\n",
       "      <td>2020-12-31</td>\n",
       "      <td>31</td>\n",
       "      <td>12552</td>\n",
       "      <td>389112</td>\n",
       "    </tr>\n",
       "  </tbody>\n",
       "</table>\n",
       "<p>1033583 rows × 5 columns</p>\n",
       "</div>"
      ],
      "text/plain": [
       "         permno       date  prc  shrout  mkt_cap\n",
       "396       10006 1963-01-31   80    1453   116240\n",
       "397       10006 1963-02-28   83    1453   120599\n",
       "398       10006 1963-03-29   82    1453   119146\n",
       "399       10006 1963-04-30   89    1453   129317\n",
       "400       10006 1963-05-31   97    1453   140941\n",
       "...         ...        ...  ...     ...      ...\n",
       "1385590   93426 2020-08-31   24   12552   301248\n",
       "1385591   93426 2020-09-30   25   12552   313800\n",
       "1385592   93426 2020-10-30   23   12552   288696\n",
       "1385593   93426 2020-11-30   29   12552   364008\n",
       "1385594   93426 2020-12-31   31   12552   389112\n",
       "\n",
       "[1033583 rows x 5 columns]"
      ]
     },
     "execution_count": 13,
     "metadata": {},
     "output_type": "execute_result"
    }
   ],
   "source": [
    "mkt_cap_df"
   ]
  },
  {
   "cell_type": "markdown",
   "metadata": {},
   "source": [
    "## 3. Calculate Formation Period Returns"
   ]
  },
  {
   "cell_type": "code",
   "execution_count": 14,
   "metadata": {},
   "outputs": [],
   "source": [
    "# J = Formation Period Length\n",
    "# Measures Based on Past (J) Month Compounded Returns\n",
    "# We sort the permno, date, ret and logret by firstly company then date.\n",
    "\n",
    "J = 11\n",
    "sorted_crsp = crsp_m[['permno','date','ret','logret']].sort_values(['permno','date']).set_index('date')\n",
    "\n",
    "# Calculating Rolling Cumulative Return in the Formation Period by summing log returns over the J month formation period\n",
    "formation_df = sorted_crsp.groupby(['permno'])['logret'].rolling(J, min_periods=J).sum().reset_index()\n",
    "formation_df = formation_df.rename(columns={'logret':'sumlogret'})\n",
    "\n",
    "# reversing returns back to non-log\n",
    "formation_df['cumret']=np.exp(formation_df['sumlogret'])-1"
   ]
  },
  {
   "cell_type": "code",
   "execution_count": 15,
   "metadata": {},
   "outputs": [
    {
     "data": {
      "text/html": [
       "<div>\n",
       "<style scoped>\n",
       "    .dataframe tbody tr th:only-of-type {\n",
       "        vertical-align: middle;\n",
       "    }\n",
       "\n",
       "    .dataframe tbody tr th {\n",
       "        vertical-align: top;\n",
       "    }\n",
       "\n",
       "    .dataframe thead th {\n",
       "        text-align: right;\n",
       "    }\n",
       "</style>\n",
       "<table border=\"1\" class=\"dataframe\">\n",
       "  <thead>\n",
       "    <tr style=\"text-align: right;\">\n",
       "      <th></th>\n",
       "      <th>permno</th>\n",
       "      <th>date</th>\n",
       "      <th>sumlogret</th>\n",
       "      <th>cumret</th>\n",
       "    </tr>\n",
       "  </thead>\n",
       "  <tbody>\n",
       "    <tr>\n",
       "      <th>1033578</th>\n",
       "      <td>93426</td>\n",
       "      <td>2020-08-31</td>\n",
       "      <td>-0.273329</td>\n",
       "      <td>-0.239158</td>\n",
       "    </tr>\n",
       "    <tr>\n",
       "      <th>1033579</th>\n",
       "      <td>93426</td>\n",
       "      <td>2020-09-30</td>\n",
       "      <td>-0.296236</td>\n",
       "      <td>-0.256388</td>\n",
       "    </tr>\n",
       "    <tr>\n",
       "      <th>1033580</th>\n",
       "      <td>93426</td>\n",
       "      <td>2020-10-30</td>\n",
       "      <td>-0.364888</td>\n",
       "      <td>-0.305726</td>\n",
       "    </tr>\n",
       "    <tr>\n",
       "      <th>1033581</th>\n",
       "      <td>93426</td>\n",
       "      <td>2020-11-30</td>\n",
       "      <td>-0.150482</td>\n",
       "      <td>-0.139707</td>\n",
       "    </tr>\n",
       "    <tr>\n",
       "      <th>1033582</th>\n",
       "      <td>93426</td>\n",
       "      <td>2020-12-31</td>\n",
       "      <td>-0.092767</td>\n",
       "      <td>-0.088594</td>\n",
       "    </tr>\n",
       "  </tbody>\n",
       "</table>\n",
       "</div>"
      ],
      "text/plain": [
       "         permno       date  sumlogret    cumret\n",
       "1033578   93426 2020-08-31  -0.273329 -0.239158\n",
       "1033579   93426 2020-09-30  -0.296236 -0.256388\n",
       "1033580   93426 2020-10-30  -0.364888 -0.305726\n",
       "1033581   93426 2020-11-30  -0.150482 -0.139707\n",
       "1033582   93426 2020-12-31  -0.092767 -0.088594"
      ]
     },
     "execution_count": 15,
     "metadata": {},
     "output_type": "execute_result"
    }
   ],
   "source": [
    "formation_df.tail()"
   ]
  },
  {
   "cell_type": "markdown",
   "metadata": {},
   "source": [
    "## 4. Form 10 Momentum Portfolios\n",
    "Momentum Rank (momr) = 1 for past losers\n",
    "Momentum Rank (momr) = 10 for past winners"
   ]
  },
  {
   "cell_type": "code",
   "execution_count": 16,
   "metadata": {},
   "outputs": [
    {
     "data": {
      "text/html": [
       "<div>\n",
       "<style scoped>\n",
       "    .dataframe tbody tr th:only-of-type {\n",
       "        vertical-align: middle;\n",
       "    }\n",
       "\n",
       "    .dataframe tbody tr th {\n",
       "        vertical-align: top;\n",
       "    }\n",
       "\n",
       "    .dataframe thead th {\n",
       "        text-align: right;\n",
       "    }\n",
       "</style>\n",
       "<table border=\"1\" class=\"dataframe\">\n",
       "  <thead>\n",
       "    <tr style=\"text-align: right;\">\n",
       "      <th></th>\n",
       "      <th>permno</th>\n",
       "      <th>date</th>\n",
       "      <th>mkt_cap</th>\n",
       "      <th>sumlogret</th>\n",
       "      <th>cumret</th>\n",
       "    </tr>\n",
       "  </thead>\n",
       "  <tbody>\n",
       "    <tr>\n",
       "      <th>1033578</th>\n",
       "      <td>93426</td>\n",
       "      <td>2020-08-31</td>\n",
       "      <td>301248</td>\n",
       "      <td>-0.273329</td>\n",
       "      <td>-0.239158</td>\n",
       "    </tr>\n",
       "    <tr>\n",
       "      <th>1033579</th>\n",
       "      <td>93426</td>\n",
       "      <td>2020-09-30</td>\n",
       "      <td>313800</td>\n",
       "      <td>-0.296236</td>\n",
       "      <td>-0.256388</td>\n",
       "    </tr>\n",
       "    <tr>\n",
       "      <th>1033580</th>\n",
       "      <td>93426</td>\n",
       "      <td>2020-10-30</td>\n",
       "      <td>288696</td>\n",
       "      <td>-0.364888</td>\n",
       "      <td>-0.305726</td>\n",
       "    </tr>\n",
       "    <tr>\n",
       "      <th>1033581</th>\n",
       "      <td>93426</td>\n",
       "      <td>2020-11-30</td>\n",
       "      <td>364008</td>\n",
       "      <td>-0.150482</td>\n",
       "      <td>-0.139707</td>\n",
       "    </tr>\n",
       "    <tr>\n",
       "      <th>1033582</th>\n",
       "      <td>93426</td>\n",
       "      <td>2020-12-31</td>\n",
       "      <td>389112</td>\n",
       "      <td>-0.092767</td>\n",
       "      <td>-0.088594</td>\n",
       "    </tr>\n",
       "  </tbody>\n",
       "</table>\n",
       "</div>"
      ],
      "text/plain": [
       "         permno       date  mkt_cap  sumlogret    cumret\n",
       "1033578   93426 2020-08-31   301248  -0.273329 -0.239158\n",
       "1033579   93426 2020-09-30   313800  -0.296236 -0.256388\n",
       "1033580   93426 2020-10-30   288696  -0.364888 -0.305726\n",
       "1033581   93426 2020-11-30   364008  -0.150482 -0.139707\n",
       "1033582   93426 2020-12-31   389112  -0.092767 -0.088594"
      ]
     },
     "execution_count": 16,
     "metadata": {},
     "output_type": "execute_result"
    }
   ],
   "source": [
    "# Merging market cap df and formation df\n",
    "formation_mc = pd.merge(mkt_cap_df[['permno','date','mkt_cap']], formation_df, on=['permno', 'date'], how='inner')\n",
    "formation_mc.tail()"
   ]
  },
  {
   "cell_type": "code",
   "execution_count": 17,
   "metadata": {},
   "outputs": [
    {
     "data": {
      "text/plain": [
       "permno       1033583\n",
       "date         1033583\n",
       "mkt_cap      1033583\n",
       "sumlogret     970064\n",
       "cumret        970064\n",
       "dtype: int64"
      ]
     },
     "execution_count": 17,
     "metadata": {},
     "output_type": "execute_result"
    }
   ],
   "source": [
    "formation_mc.count()"
   ]
  },
  {
   "cell_type": "code",
   "execution_count": 18,
   "metadata": {},
   "outputs": [],
   "source": [
    "formation_mc = formation_mc.dropna(axis=0, subset=['cumret'])\n",
    "\n",
    "# For each date: Sorting stocks based on market cap\n",
    "formation_mc = formation_mc.groupby('date').apply(lambda x: x.sort_values(['mkt_cap'], ascending = False)).reset_index(drop=True)\n",
    "\n",
    "# For each date, select the stocks with the highest 500 market cap\n",
    "# OBS: Note, this is the market cap at the end of the formation period (i.e. one month before we initiate our portfolios)\n",
    "top500stocks = formation_mc.groupby('date').apply(lambda x: x.head(500)).reset_index(drop=True)\n",
    "\n",
    "# For each date, ranking stocks into 1-10 portfolios based on cumret\n",
    "# 1 = loser, 10 = winner portfolio top500stocks = top500stocks.groupby('date').apply(lambda x: x.sort_values(['cumret'], ascending = False)).reset_index(drop=True)\n",
    "top500stocks['momr'] = top500stocks.groupby('date')['cumret'].transform(lambda x: pd.qcut(x, 10, labels=False))\n",
    "\n",
    "# For visualization: Shift momr from 0-9 to 1-10 \n",
    "top500stocks['momr']=1+top500stocks['momr']\n"
   ]
  },
  {
   "cell_type": "code",
   "execution_count": 19,
   "metadata": {},
   "outputs": [],
   "source": [
    "###############################\n",
    "##POTENTIALLY NEEDED FOR LSTM##\n",
    "###############################\n",
    "\n",
    "# Merging the momentum rank back into the umd_mkt_cap df\n",
    "#top500stocks_LSTM = pd.merge(top500stocks[['permno', 'date', 'momr']], formation_mc, on=['permno', 'date'], how='outer')\n",
    "\n",
    "# Filtering out companies that were never a part of the top 500 (and thus never got a rank)\n",
    "#top500stocks_LSTM = top500stocks_LSTM.groupby('permno').filter(lambda x: x['momr'].mean() > 0)\n",
    "\n",
    "# Total number of companies that were at some point in time a part of the top 500\n",
    "#top500stocks_LSTM.groupby('permno').count()\n",
    "\n",
    "# Note that we still have some nan-values for the months where a given firm is not in the top 500"
   ]
  },
  {
   "cell_type": "code",
   "execution_count": 20,
   "metadata": {},
   "outputs": [
    {
     "data": {
      "text/plain": [
       "momr\n",
       "1.0    -0.238350\n",
       "2.0    -0.090402\n",
       "3.0    -0.016101\n",
       "4.0     0.043231\n",
       "5.0     0.098356\n",
       "6.0     0.154444\n",
       "7.0     0.216708\n",
       "8.0     0.293755\n",
       "9.0     0.408498\n",
       "10.0    0.768112\n",
       "Name: cumret, dtype: float64"
      ]
     },
     "execution_count": 20,
     "metadata": {},
     "output_type": "execute_result"
    }
   ],
   "source": [
    "# Average cumulative return for each portfolio\n",
    "top500stocks.groupby('momr')['cumret'].mean()"
   ]
  },
  {
   "cell_type": "code",
   "execution_count": 21,
   "metadata": {},
   "outputs": [],
   "source": [
    "# Shortening the df name\n",
    "formation_df = top500stocks"
   ]
  },
  {
   "cell_type": "markdown",
   "metadata": {},
   "source": [
    "# 5. Calculate Holding Period Return\n",
    "Based on SAS code\n",
    "K = Holding Period Length\n",
    "Several key date variables:\n",
    "hdate1 = start date of holding period\n",
    "hdate2 = end date of holding period (determined by K)"
   ]
  },
  {
   "cell_type": "code",
   "execution_count": 22,
   "metadata": {},
   "outputs": [],
   "source": [
    "# Then calculate hdate1 and hdate2 using medate\n",
    "\n",
    "# K = Length of holding period\n",
    "K = 1\n",
    "\n",
    "# S= Length of skipping period\n",
    "S = 1\n",
    "\n",
    "formation_df['form_date'] = formation_df['date']\n",
    "formation_df['medate'] = formation_df['date']+MonthEnd(0)\n",
    "formation_df['hdate1']=formation_df['medate']+MonthBegin(1+S)\n",
    "formation_df['hdate2']=formation_df['medate']+MonthEnd(K+S)\n",
    "formation_df = formation_df[['permno', 'form_date','momr','hdate1','hdate2']]"
   ]
  },
  {
   "cell_type": "code",
   "execution_count": 23,
   "metadata": {},
   "outputs": [
    {
     "data": {
      "text/html": [
       "<div>\n",
       "<style scoped>\n",
       "    .dataframe tbody tr th:only-of-type {\n",
       "        vertical-align: middle;\n",
       "    }\n",
       "\n",
       "    .dataframe tbody tr th {\n",
       "        vertical-align: top;\n",
       "    }\n",
       "\n",
       "    .dataframe thead th {\n",
       "        text-align: right;\n",
       "    }\n",
       "</style>\n",
       "<table border=\"1\" class=\"dataframe\">\n",
       "  <thead>\n",
       "    <tr style=\"text-align: right;\">\n",
       "      <th></th>\n",
       "      <th>permno</th>\n",
       "      <th>form_date</th>\n",
       "      <th>momr</th>\n",
       "      <th>hdate1</th>\n",
       "      <th>hdate2</th>\n",
       "    </tr>\n",
       "  </thead>\n",
       "  <tbody>\n",
       "    <tr>\n",
       "      <th>342995</th>\n",
       "      <td>18091</td>\n",
       "      <td>2020-12-31</td>\n",
       "      <td>1.0</td>\n",
       "      <td>2021-02-01</td>\n",
       "      <td>2021-02-28</td>\n",
       "    </tr>\n",
       "    <tr>\n",
       "      <th>342996</th>\n",
       "      <td>24272</td>\n",
       "      <td>2020-12-31</td>\n",
       "      <td>5.0</td>\n",
       "      <td>2021-02-01</td>\n",
       "      <td>2021-02-28</td>\n",
       "    </tr>\n",
       "    <tr>\n",
       "      <th>342997</th>\n",
       "      <td>84372</td>\n",
       "      <td>2020-12-31</td>\n",
       "      <td>5.0</td>\n",
       "      <td>2021-02-01</td>\n",
       "      <td>2021-02-28</td>\n",
       "    </tr>\n",
       "    <tr>\n",
       "      <th>342998</th>\n",
       "      <td>86949</td>\n",
       "      <td>2020-12-31</td>\n",
       "      <td>3.0</td>\n",
       "      <td>2021-02-01</td>\n",
       "      <td>2021-02-28</td>\n",
       "    </tr>\n",
       "    <tr>\n",
       "      <th>342999</th>\n",
       "      <td>84042</td>\n",
       "      <td>2020-12-31</td>\n",
       "      <td>8.0</td>\n",
       "      <td>2021-02-01</td>\n",
       "      <td>2021-02-28</td>\n",
       "    </tr>\n",
       "  </tbody>\n",
       "</table>\n",
       "</div>"
      ],
      "text/plain": [
       "        permno  form_date  momr     hdate1     hdate2\n",
       "342995   18091 2020-12-31   1.0 2021-02-01 2021-02-28\n",
       "342996   24272 2020-12-31   5.0 2021-02-01 2021-02-28\n",
       "342997   84372 2020-12-31   5.0 2021-02-01 2021-02-28\n",
       "342998   86949 2020-12-31   3.0 2021-02-01 2021-02-28\n",
       "342999   84042 2020-12-31   8.0 2021-02-01 2021-02-28"
      ]
     },
     "execution_count": 23,
     "metadata": {},
     "output_type": "execute_result"
    }
   ],
   "source": [
    "# Checking start and end of holding period relative to end of formation date\n",
    "formation_df.tail()"
   ]
  },
  {
   "cell_type": "code",
   "execution_count": 24,
   "metadata": {},
   "outputs": [],
   "source": [
    "# Merging with old crsp_m dataframe to create holding period returns\n",
    "holding_df = pd.merge(crsp_m[['permno','date','ret']], formation_df, on=['permno'], how='inner')\n",
    "\n",
    "# Focusing on period that is higher than hdate1 and lower than hdate2\n",
    "holding_df = holding_df[(holding_df['hdate1']<=holding_df['date']) & (holding_df['date']<=holding_df['hdate2'])]\n",
    "\n",
    "# Rearrange the columns\n",
    "holding_df = holding_df[['permno','form_date', 'momr', 'hdate1','hdate2', 'date', 'ret']]"
   ]
  },
  {
   "cell_type": "code",
   "execution_count": 25,
   "metadata": {},
   "outputs": [
    {
     "data": {
      "text/html": [
       "<div>\n",
       "<style scoped>\n",
       "    .dataframe tbody tr th:only-of-type {\n",
       "        vertical-align: middle;\n",
       "    }\n",
       "\n",
       "    .dataframe tbody tr th {\n",
       "        vertical-align: top;\n",
       "    }\n",
       "\n",
       "    .dataframe thead th {\n",
       "        text-align: right;\n",
       "    }\n",
       "</style>\n",
       "<table border=\"1\" class=\"dataframe\">\n",
       "  <thead>\n",
       "    <tr style=\"text-align: right;\">\n",
       "      <th></th>\n",
       "      <th>permno</th>\n",
       "      <th>form_date</th>\n",
       "      <th>momr</th>\n",
       "      <th>hdate1</th>\n",
       "      <th>hdate2</th>\n",
       "      <th>date</th>\n",
       "      <th>ret</th>\n",
       "    </tr>\n",
       "  </thead>\n",
       "  <tbody>\n",
       "    <tr>\n",
       "      <th>146373868</th>\n",
       "      <td>93423</td>\n",
       "      <td>2018-11-30</td>\n",
       "      <td>4.0</td>\n",
       "      <td>2019-01-01</td>\n",
       "      <td>2019-01-31</td>\n",
       "      <td>2019-01-31</td>\n",
       "      <td>0.107136</td>\n",
       "    </tr>\n",
       "    <tr>\n",
       "      <th>146373925</th>\n",
       "      <td>93423</td>\n",
       "      <td>2018-12-31</td>\n",
       "      <td>5.0</td>\n",
       "      <td>2019-02-01</td>\n",
       "      <td>2019-02-28</td>\n",
       "      <td>2019-02-28</td>\n",
       "      <td>-0.082156</td>\n",
       "    </tr>\n",
       "    <tr>\n",
       "      <th>146373982</th>\n",
       "      <td>93423</td>\n",
       "      <td>2019-01-31</td>\n",
       "      <td>5.0</td>\n",
       "      <td>2019-03-01</td>\n",
       "      <td>2019-03-31</td>\n",
       "      <td>2019-03-29</td>\n",
       "      <td>-0.114163</td>\n",
       "    </tr>\n",
       "    <tr>\n",
       "      <th>146374039</th>\n",
       "      <td>93423</td>\n",
       "      <td>2019-02-28</td>\n",
       "      <td>3.0</td>\n",
       "      <td>2019-04-01</td>\n",
       "      <td>2019-04-30</td>\n",
       "      <td>2019-04-30</td>\n",
       "      <td>0.075785</td>\n",
       "    </tr>\n",
       "    <tr>\n",
       "      <th>146374376</th>\n",
       "      <td>93423</td>\n",
       "      <td>2019-08-30</td>\n",
       "      <td>3.0</td>\n",
       "      <td>2019-10-01</td>\n",
       "      <td>2019-10-31</td>\n",
       "      <td>2019-10-31</td>\n",
       "      <td>-0.169325</td>\n",
       "    </tr>\n",
       "  </tbody>\n",
       "</table>\n",
       "</div>"
      ],
      "text/plain": [
       "           permno  form_date  momr     hdate1     hdate2       date       ret\n",
       "146373868   93423 2018-11-30   4.0 2019-01-01 2019-01-31 2019-01-31  0.107136\n",
       "146373925   93423 2018-12-31   5.0 2019-02-01 2019-02-28 2019-02-28 -0.082156\n",
       "146373982   93423 2019-01-31   5.0 2019-03-01 2019-03-31 2019-03-29 -0.114163\n",
       "146374039   93423 2019-02-28   3.0 2019-04-01 2019-04-30 2019-04-30  0.075785\n",
       "146374376   93423 2019-08-30   3.0 2019-10-01 2019-10-31 2019-10-31 -0.169325"
      ]
     },
     "execution_count": 25,
     "metadata": {},
     "output_type": "execute_result"
    }
   ],
   "source": [
    "holding_df.tail()"
   ]
  },
  {
   "cell_type": "markdown",
   "metadata": {},
   "source": [
    "## 6. Calculate Portfolio Return\n",
    "\n",
    "We use equally weighted (similar to most literature on momemntum, e.g., Jegadeesh and Titman, 1993, Blitz et al., 2011) At a given month, across all stocks within a momentum rank formed from a specific formation date"
   ]
  },
  {
   "cell_type": "code",
   "execution_count": 26,
   "metadata": {},
   "outputs": [
    {
     "data": {
      "text/html": [
       "<div>\n",
       "<style scoped>\n",
       "    .dataframe tbody tr th:only-of-type {\n",
       "        vertical-align: middle;\n",
       "    }\n",
       "\n",
       "    .dataframe tbody tr th {\n",
       "        vertical-align: top;\n",
       "    }\n",
       "\n",
       "    .dataframe thead th {\n",
       "        text-align: right;\n",
       "    }\n",
       "</style>\n",
       "<table border=\"1\" class=\"dataframe\">\n",
       "  <thead>\n",
       "    <tr style=\"text-align: right;\">\n",
       "      <th></th>\n",
       "      <th>date</th>\n",
       "      <th>momr</th>\n",
       "      <th>form_date</th>\n",
       "      <th>ret</th>\n",
       "    </tr>\n",
       "  </thead>\n",
       "  <tbody>\n",
       "    <tr>\n",
       "      <th>120</th>\n",
       "      <td>1965-01-29</td>\n",
       "      <td>1.0</td>\n",
       "      <td>1964-11-30</td>\n",
       "      <td>0.064218</td>\n",
       "    </tr>\n",
       "    <tr>\n",
       "      <th>121</th>\n",
       "      <td>1965-01-29</td>\n",
       "      <td>2.0</td>\n",
       "      <td>1964-11-30</td>\n",
       "      <td>0.042881</td>\n",
       "    </tr>\n",
       "    <tr>\n",
       "      <th>122</th>\n",
       "      <td>1965-01-29</td>\n",
       "      <td>3.0</td>\n",
       "      <td>1964-11-30</td>\n",
       "      <td>0.043106</td>\n",
       "    </tr>\n",
       "    <tr>\n",
       "      <th>123</th>\n",
       "      <td>1965-01-29</td>\n",
       "      <td>4.0</td>\n",
       "      <td>1964-11-30</td>\n",
       "      <td>0.051207</td>\n",
       "    </tr>\n",
       "    <tr>\n",
       "      <th>124</th>\n",
       "      <td>1965-01-29</td>\n",
       "      <td>5.0</td>\n",
       "      <td>1964-11-30</td>\n",
       "      <td>0.050308</td>\n",
       "    </tr>\n",
       "    <tr>\n",
       "      <th>125</th>\n",
       "      <td>1965-01-29</td>\n",
       "      <td>6.0</td>\n",
       "      <td>1964-11-30</td>\n",
       "      <td>0.043262</td>\n",
       "    </tr>\n",
       "    <tr>\n",
       "      <th>126</th>\n",
       "      <td>1965-01-29</td>\n",
       "      <td>7.0</td>\n",
       "      <td>1964-11-30</td>\n",
       "      <td>0.049806</td>\n",
       "    </tr>\n",
       "    <tr>\n",
       "      <th>127</th>\n",
       "      <td>1965-01-29</td>\n",
       "      <td>8.0</td>\n",
       "      <td>1964-11-30</td>\n",
       "      <td>0.045711</td>\n",
       "    </tr>\n",
       "    <tr>\n",
       "      <th>128</th>\n",
       "      <td>1965-01-29</td>\n",
       "      <td>9.0</td>\n",
       "      <td>1964-11-30</td>\n",
       "      <td>0.055437</td>\n",
       "    </tr>\n",
       "    <tr>\n",
       "      <th>129</th>\n",
       "      <td>1965-01-29</td>\n",
       "      <td>10.0</td>\n",
       "      <td>1964-11-30</td>\n",
       "      <td>0.057459</td>\n",
       "    </tr>\n",
       "    <tr>\n",
       "      <th>130</th>\n",
       "      <td>1965-02-26</td>\n",
       "      <td>1.0</td>\n",
       "      <td>1964-12-31</td>\n",
       "      <td>0.025495</td>\n",
       "    </tr>\n",
       "    <tr>\n",
       "      <th>131</th>\n",
       "      <td>1965-02-26</td>\n",
       "      <td>2.0</td>\n",
       "      <td>1964-12-31</td>\n",
       "      <td>0.025736</td>\n",
       "    </tr>\n",
       "  </tbody>\n",
       "</table>\n",
       "</div>"
      ],
      "text/plain": [
       "          date  momr  form_date       ret\n",
       "120 1965-01-29   1.0 1964-11-30  0.064218\n",
       "121 1965-01-29   2.0 1964-11-30  0.042881\n",
       "122 1965-01-29   3.0 1964-11-30  0.043106\n",
       "123 1965-01-29   4.0 1964-11-30  0.051207\n",
       "124 1965-01-29   5.0 1964-11-30  0.050308\n",
       "125 1965-01-29   6.0 1964-11-30  0.043262\n",
       "126 1965-01-29   7.0 1964-11-30  0.049806\n",
       "127 1965-01-29   8.0 1964-11-30  0.045711\n",
       "128 1965-01-29   9.0 1964-11-30  0.055437\n",
       "129 1965-01-29  10.0 1964-11-30  0.057459\n",
       "130 1965-02-26   1.0 1964-12-31  0.025495\n",
       "131 1965-02-26   2.0 1964-12-31  0.025736"
      ]
     },
     "execution_count": 26,
     "metadata": {},
     "output_type": "execute_result"
    }
   ],
   "source": [
    "# For a given date, momentum ranking and portfolio formation date, we calculate the mean return\n",
    "port = holding_df.groupby(['date','momr', 'form_date'])['ret'].mean().reset_index()\n",
    "\n",
    "# OBS: Skip first 12 months of the sample (match with LSTM features)\n",
    "start_yr = port.date.dt.year.min()+1\n",
    "port = port.loc[port.date.dt.year>=start_yr]\n",
    "port = port.sort_values(by=['date','momr'])\n",
    "\n",
    "port.head(12)"
   ]
  },
  {
   "cell_type": "code",
   "execution_count": 27,
   "metadata": {},
   "outputs": [],
   "source": [
    "ewret_df = port"
   ]
  },
  {
   "cell_type": "code",
   "execution_count": 28,
   "metadata": {},
   "outputs": [
    {
     "data": {
      "text/html": [
       "<div>\n",
       "<style scoped>\n",
       "    .dataframe tbody tr th:only-of-type {\n",
       "        vertical-align: middle;\n",
       "    }\n",
       "\n",
       "    .dataframe tbody tr th {\n",
       "        vertical-align: top;\n",
       "    }\n",
       "\n",
       "    .dataframe thead th {\n",
       "        text-align: right;\n",
       "    }\n",
       "</style>\n",
       "<table border=\"1\" class=\"dataframe\">\n",
       "  <thead>\n",
       "    <tr style=\"text-align: right;\">\n",
       "      <th></th>\n",
       "      <th>momr</th>\n",
       "      <th>count</th>\n",
       "      <th>mean</th>\n",
       "      <th>std</th>\n",
       "    </tr>\n",
       "  </thead>\n",
       "  <tbody>\n",
       "    <tr>\n",
       "      <th>0</th>\n",
       "      <td>1.0</td>\n",
       "      <td>672.0</td>\n",
       "      <td>0.007432</td>\n",
       "      <td>0.070115</td>\n",
       "    </tr>\n",
       "    <tr>\n",
       "      <th>1</th>\n",
       "      <td>2.0</td>\n",
       "      <td>672.0</td>\n",
       "      <td>0.009384</td>\n",
       "      <td>0.055535</td>\n",
       "    </tr>\n",
       "    <tr>\n",
       "      <th>2</th>\n",
       "      <td>3.0</td>\n",
       "      <td>672.0</td>\n",
       "      <td>0.010138</td>\n",
       "      <td>0.050215</td>\n",
       "    </tr>\n",
       "    <tr>\n",
       "      <th>3</th>\n",
       "      <td>4.0</td>\n",
       "      <td>672.0</td>\n",
       "      <td>0.009915</td>\n",
       "      <td>0.047344</td>\n",
       "    </tr>\n",
       "    <tr>\n",
       "      <th>4</th>\n",
       "      <td>5.0</td>\n",
       "      <td>672.0</td>\n",
       "      <td>0.009246</td>\n",
       "      <td>0.045585</td>\n",
       "    </tr>\n",
       "    <tr>\n",
       "      <th>5</th>\n",
       "      <td>6.0</td>\n",
       "      <td>672.0</td>\n",
       "      <td>0.010449</td>\n",
       "      <td>0.044472</td>\n",
       "    </tr>\n",
       "    <tr>\n",
       "      <th>6</th>\n",
       "      <td>7.0</td>\n",
       "      <td>672.0</td>\n",
       "      <td>0.010336</td>\n",
       "      <td>0.045067</td>\n",
       "    </tr>\n",
       "    <tr>\n",
       "      <th>7</th>\n",
       "      <td>8.0</td>\n",
       "      <td>672.0</td>\n",
       "      <td>0.010527</td>\n",
       "      <td>0.046134</td>\n",
       "    </tr>\n",
       "    <tr>\n",
       "      <th>8</th>\n",
       "      <td>9.0</td>\n",
       "      <td>672.0</td>\n",
       "      <td>0.011805</td>\n",
       "      <td>0.048582</td>\n",
       "    </tr>\n",
       "    <tr>\n",
       "      <th>9</th>\n",
       "      <td>10.0</td>\n",
       "      <td>672.0</td>\n",
       "      <td>0.013672</td>\n",
       "      <td>0.059017</td>\n",
       "    </tr>\n",
       "  </tbody>\n",
       "</table>\n",
       "</div>"
      ],
      "text/plain": [
       "   momr  count      mean       std\n",
       "0   1.0  672.0  0.007432  0.070115\n",
       "1   2.0  672.0  0.009384  0.055535\n",
       "2   3.0  672.0  0.010138  0.050215\n",
       "3   4.0  672.0  0.009915  0.047344\n",
       "4   5.0  672.0  0.009246  0.045585\n",
       "5   6.0  672.0  0.010449  0.044472\n",
       "6   7.0  672.0  0.010336  0.045067\n",
       "7   8.0  672.0  0.010527  0.046134\n",
       "8   9.0  672.0  0.011805  0.048582\n",
       "9  10.0  672.0  0.013672  0.059017"
      ]
     },
     "execution_count": 28,
     "metadata": {},
     "output_type": "execute_result"
    }
   ],
   "source": [
    "# Portfolio summary\n",
    "ewret_df.groupby(['momr'])['ret'].describe()[['count','mean', 'std']].reset_index()"
   ]
  },
  {
   "cell_type": "markdown",
   "metadata": {},
   "source": [
    "## 7. Calculate Long Short Portfolio Returns\n",
    "Each month, MOMR=10 (winners) portfolio - MOMR=1 (losers) portfolio"
   ]
  },
  {
   "cell_type": "code",
   "execution_count": 29,
   "metadata": {},
   "outputs": [],
   "source": [
    "# Transpose portfolio layout to have columns as portfolio returns\n",
    "ewret_t = ewret_df.pivot(index='date', columns='momr', values='ret')\n",
    "\n",
    "# Add prefix port in front of each column\n",
    "ewret_t = ewret_t.add_prefix('P')"
   ]
  },
  {
   "cell_type": "code",
   "execution_count": 30,
   "metadata": {},
   "outputs": [
    {
     "data": {
      "text/html": [
       "<div>\n",
       "<style scoped>\n",
       "    .dataframe tbody tr th:only-of-type {\n",
       "        vertical-align: middle;\n",
       "    }\n",
       "\n",
       "    .dataframe tbody tr th {\n",
       "        vertical-align: top;\n",
       "    }\n",
       "\n",
       "    .dataframe thead th {\n",
       "        text-align: right;\n",
       "    }\n",
       "</style>\n",
       "<table border=\"1\" class=\"dataframe\">\n",
       "  <thead>\n",
       "    <tr style=\"text-align: right;\">\n",
       "      <th>momr</th>\n",
       "      <th>losers</th>\n",
       "      <th>P2.0</th>\n",
       "      <th>P3.0</th>\n",
       "      <th>P4.0</th>\n",
       "      <th>P5.0</th>\n",
       "      <th>P6.0</th>\n",
       "      <th>P7.0</th>\n",
       "      <th>P8.0</th>\n",
       "      <th>P9.0</th>\n",
       "      <th>winners</th>\n",
       "      <th>long_short</th>\n",
       "    </tr>\n",
       "    <tr>\n",
       "      <th>date</th>\n",
       "      <th></th>\n",
       "      <th></th>\n",
       "      <th></th>\n",
       "      <th></th>\n",
       "      <th></th>\n",
       "      <th></th>\n",
       "      <th></th>\n",
       "      <th></th>\n",
       "      <th></th>\n",
       "      <th></th>\n",
       "      <th></th>\n",
       "    </tr>\n",
       "  </thead>\n",
       "  <tbody>\n",
       "    <tr>\n",
       "      <th>1965-01-29</th>\n",
       "      <td>0.064218</td>\n",
       "      <td>0.042881</td>\n",
       "      <td>0.043106</td>\n",
       "      <td>0.051207</td>\n",
       "      <td>0.050308</td>\n",
       "      <td>0.043262</td>\n",
       "      <td>0.049806</td>\n",
       "      <td>0.045711</td>\n",
       "      <td>0.055437</td>\n",
       "      <td>0.057459</td>\n",
       "      <td>-0.006760</td>\n",
       "    </tr>\n",
       "    <tr>\n",
       "      <th>1965-02-26</th>\n",
       "      <td>0.025495</td>\n",
       "      <td>0.025736</td>\n",
       "      <td>0.026138</td>\n",
       "      <td>0.007189</td>\n",
       "      <td>0.018510</td>\n",
       "      <td>0.023358</td>\n",
       "      <td>0.015833</td>\n",
       "      <td>0.028288</td>\n",
       "      <td>0.038340</td>\n",
       "      <td>0.036436</td>\n",
       "      <td>0.010941</td>\n",
       "    </tr>\n",
       "    <tr>\n",
       "      <th>1965-03-31</th>\n",
       "      <td>-0.007541</td>\n",
       "      <td>-0.008622</td>\n",
       "      <td>-0.012113</td>\n",
       "      <td>0.001251</td>\n",
       "      <td>-0.005332</td>\n",
       "      <td>-0.008992</td>\n",
       "      <td>-0.003337</td>\n",
       "      <td>-0.003323</td>\n",
       "      <td>-0.006221</td>\n",
       "      <td>0.003880</td>\n",
       "      <td>0.011421</td>\n",
       "    </tr>\n",
       "    <tr>\n",
       "      <th>1965-04-30</th>\n",
       "      <td>0.019909</td>\n",
       "      <td>0.023432</td>\n",
       "      <td>0.022249</td>\n",
       "      <td>0.035132</td>\n",
       "      <td>0.016042</td>\n",
       "      <td>0.021586</td>\n",
       "      <td>0.026220</td>\n",
       "      <td>0.034346</td>\n",
       "      <td>0.050639</td>\n",
       "      <td>0.057910</td>\n",
       "      <td>0.038001</td>\n",
       "    </tr>\n",
       "    <tr>\n",
       "      <th>1965-05-28</th>\n",
       "      <td>-0.011312</td>\n",
       "      <td>-0.018049</td>\n",
       "      <td>-0.007891</td>\n",
       "      <td>-0.005987</td>\n",
       "      <td>-0.004110</td>\n",
       "      <td>-0.017288</td>\n",
       "      <td>0.004709</td>\n",
       "      <td>0.005917</td>\n",
       "      <td>-0.007037</td>\n",
       "      <td>-0.009444</td>\n",
       "      <td>0.001867</td>\n",
       "    </tr>\n",
       "  </tbody>\n",
       "</table>\n",
       "</div>"
      ],
      "text/plain": [
       "momr          losers      P2.0      P3.0      P4.0      P5.0      P6.0  \\\n",
       "date                                                                     \n",
       "1965-01-29  0.064218  0.042881  0.043106  0.051207  0.050308  0.043262   \n",
       "1965-02-26  0.025495  0.025736  0.026138  0.007189  0.018510  0.023358   \n",
       "1965-03-31 -0.007541 -0.008622 -0.012113  0.001251 -0.005332 -0.008992   \n",
       "1965-04-30  0.019909  0.023432  0.022249  0.035132  0.016042  0.021586   \n",
       "1965-05-28 -0.011312 -0.018049 -0.007891 -0.005987 -0.004110 -0.017288   \n",
       "\n",
       "momr            P7.0      P8.0      P9.0   winners  long_short  \n",
       "date                                                            \n",
       "1965-01-29  0.049806  0.045711  0.055437  0.057459   -0.006760  \n",
       "1965-02-26  0.015833  0.028288  0.038340  0.036436    0.010941  \n",
       "1965-03-31 -0.003337 -0.003323 -0.006221  0.003880    0.011421  \n",
       "1965-04-30  0.026220  0.034346  0.050639  0.057910    0.038001  \n",
       "1965-05-28  0.004709  0.005917 -0.007037 -0.009444    0.001867  "
      ]
     },
     "execution_count": 30,
     "metadata": {},
     "output_type": "execute_result"
    }
   ],
   "source": [
    "# Creating long-short portfolio\n",
    "ewret_t = ewret_t.rename(columns={'P1.0':'losers', 'P10.0':'winners'})\n",
    "ewret_t['long_short'] = ewret_t.winners - ewret_t.losers\n",
    "\n",
    "ewret_t.head()"
   ]
  },
  {
   "cell_type": "code",
   "execution_count": 31,
   "metadata": {},
   "outputs": [],
   "source": [
    "# Compute Long-Short Portfolio Cumulative Returns (for visualization)\n",
    "\n",
    "ewret_t['cumret_winners']   = (1+ewret_t.winners).cumprod()-1\n",
    "ewret_t['cumret_losers']    = (1+ewret_t.losers).cumprod()-1\n",
    "ewret_t['cumret_long_short']= (1+ewret_t.long_short).cumprod()-1"
   ]
  },
  {
   "cell_type": "markdown",
   "metadata": {},
   "source": [
    "## 8. Portfolio statistics"
   ]
  },
  {
   "cell_type": "code",
   "execution_count": 32,
   "metadata": {},
   "outputs": [
    {
     "name": "stdout",
     "output_type": "stream",
     "text": [
      "         momr      mean\n",
      "0     winners  0.013672\n",
      "1      losers  0.007432\n",
      "2  long_short  0.006239\n",
      "________________________\n",
      "         momr       std\n",
      "0     winners  0.059017\n",
      "1      losers  0.070115\n",
      "2  long_short  0.059794\n"
     ]
    }
   ],
   "source": [
    "# Mean \n",
    "mom_mean = ewret_t[['winners', 'losers', 'long_short']].mean().to_frame()\n",
    "mom_mean = mom_mean.rename(columns={0:'mean'}).reset_index()\n",
    "\n",
    "# Standard deviation\n",
    "mom_std = ewret_t[['winners', 'losers', 'long_short']].std().to_frame()\n",
    "mom_std = mom_std.rename(columns={0:'std'}).reset_index()\n",
    "\n",
    "print(mom_mean)\n",
    "print('________________________')\n",
    "print(mom_std)"
   ]
  },
  {
   "cell_type": "code",
   "execution_count": 33,
   "metadata": {},
   "outputs": [],
   "source": [
    "# T-Value and P-Value\n",
    "t_losers = pd.Series(stats.ttest_1samp(ewret_t['losers'],0.0)).to_frame().T\n",
    "t_winners = pd.Series(stats.ttest_1samp(ewret_t['winners'],0.0)).to_frame().T\n",
    "t_long_short = pd.Series(stats.ttest_1samp(ewret_t['long_short'],0.0)).to_frame().T\n",
    "\n",
    "t_losers['momr']='losers'\n",
    "t_winners['momr']='winners'\n",
    "t_long_short['momr']='long_short'"
   ]
  },
  {
   "cell_type": "code",
   "execution_count": 34,
   "metadata": {},
   "outputs": [
    {
     "name": "stdout",
     "output_type": "stream",
     "text": [
      "Momentum Strategy Summary:\n",
      "\n",
      "          momr   mean t-stat p-value\n",
      "0     winners  1.37%   6.01   0.000\n",
      "1      losers  0.74%   2.75   0.006\n",
      "2  long_short  0.62%   2.71   0.007\n"
     ]
    }
   ],
   "source": [
    "t_output =pd.concat([t_winners, t_losers, t_long_short])\\\n",
    "    .rename(columns={0:'t-stat', 1:'p-value'})\n",
    "\n",
    "# Combine mean, t and p and format output\n",
    "mom_output = pd.merge(mom_mean, t_output, on=['momr'], how='inner')\n",
    "\n",
    "mom_output['mean'] = mom_output['mean'].map('{:.2%}'.format)\n",
    "mom_output['t-stat'] = mom_output['t-stat'].map('{:.2f}'.format)\n",
    "mom_output['p-value'] = mom_output['p-value'].map('{:.3f}'.format)\n",
    "\n",
    "print('Momentum Strategy Summary:\\n\\n', mom_output)"
   ]
  },
  {
   "cell_type": "markdown",
   "metadata": {},
   "source": [
    "## 9. Plotting the Return Series"
   ]
  },
  {
   "cell_type": "code",
   "execution_count": 35,
   "metadata": {},
   "outputs": [
    {
     "data": {
      "image/png": "[encoded data removed]",
      "text/plain": [
       "<Figure size 864x648 with 2 Axes>"
      ]
     },
     "metadata": {
      "needs_background": "light"
     },
     "output_type": "display_data"
    }
   ],
   "source": [
    "plt.figure(figsize=(12,9))\n",
    "plt.suptitle('Momentum Strategy', fontsize=20)\n",
    "ax1 = plt.subplot(211)\n",
    "ax1.set_title('Long/Short Momentum Strategy', fontsize=15)\n",
    "ax1.set_xlim([dt.datetime(1967,1,1), dt.datetime(2020,12,31)])\n",
    "ax1.plot(ewret_t['cumret_long_short'])\n",
    "ax2 = plt.subplot(212)\n",
    "ax2.set_title('Cumulative Momentum Portfolios', fontsize=15)\n",
    "ax2.plot(ewret_t['cumret_winners'], 'b-', ewret_t['cumret_losers'], 'r--')\n",
    "ax2.set_xlim([dt.datetime(1967,1,1), dt.datetime(2020,12,31)])\n",
    "ax2.legend(('Winners','Losers'), loc='upper left', shadow=True)\n",
    "plt.subplots_adjust(top=0.92, hspace=0.2)"
   ]
  },
  {
   "cell_type": "markdown",
   "metadata": {},
   "source": [
    "### Testing with FF MOM"
   ]
  },
  {
   "cell_type": "code",
   "execution_count": 36,
   "metadata": {},
   "outputs": [],
   "source": [
    "# Obtaining Fama-French MOM factors\n",
    "ff_mom = pd.read_csv('FF_mom.csv', skiprows = 12, nrows=1128, index_col = 0)\n",
    "\n",
    "# Setting monthly index\n",
    "ff_mom.index = pd.to_datetime(ff_mom.index, format= '%Y%m')\n",
    "ff_mom.index = ff_mom.index.to_period('M')\n",
    "\n",
    "# Renaming column\n",
    "ff_mom.rename(columns={ ff_mom.columns[0]: \"mom\" }, inplace = True)"
   ]
  },
  {
   "cell_type": "code",
   "execution_count": 37,
   "metadata": {},
   "outputs": [],
   "source": [
    "# Set monthly index for MOM strategy\n",
    "mom = ewret_t\n",
    "mom.index = mom.index.to_period('M')"
   ]
  },
  {
   "cell_type": "code",
   "execution_count": 38,
   "metadata": {},
   "outputs": [],
   "source": [
    "# Creating dataframe\n",
    "test_df = pd.merge(mom['long_short'], ff_mom, left_index=True, right_index=True)"
   ]
  },
  {
   "cell_type": "code",
   "execution_count": 39,
   "metadata": {},
   "outputs": [
    {
     "data": {
      "text/plain": [
       "0.8973824240872752"
      ]
     },
     "execution_count": 39,
     "metadata": {},
     "output_type": "execute_result"
    }
   ],
   "source": [
    "# Correlation \n",
    "test_df['long_short'].corr(test_df['mom'])"
   ]
  },
  {
   "cell_type": "markdown",
   "metadata": {},
   "source": [
    "## LSTM PREP"
   ]
  },
  {
   "cell_type": "code",
   "execution_count": 59,
   "metadata": {
    "scrolled": true
   },
   "outputs": [],
   "source": [
    "#LSTM_data = holding_df\n",
    "#LSTM_data.groupby('permno').count()"
   ]
  },
  {
   "cell_type": "code",
   "execution_count": 60,
   "metadata": {
    "scrolled": true
   },
   "outputs": [],
   "source": [
    "#formation_mc = formation_mc.rename(columns={\"date\": \"form_date\"})\n",
    "#formation_mc.groupby('permno').count()"
   ]
  },
  {
   "cell_type": "code",
   "execution_count": 61,
   "metadata": {},
   "outputs": [],
   "source": [
    "# Including cumreturn and merging ong formation date\n",
    "#LSTM_data_m = pd.merge(LSTM_data, formation_mc[['permno','form_date','mkt_cap','cumret']], on=['permno', 'form_date'], how='left')\n",
    "#LSTM_data_m"
   ]
  },
  {
   "cell_type": "code",
   "execution_count": 62,
   "metadata": {},
   "outputs": [],
   "source": [
    "#LSTM_data_m = LSTM_data_m.set_index(LSTM_data_m['hdate2'], drop=False, inplace=False)\n",
    "#LSTM_data_m"
   ]
  },
  {
   "cell_type": "code",
   "execution_count": 63,
   "metadata": {},
   "outputs": [],
   "source": [
    "#LSTM_data_m = LSTM_data_m[['permno', 'momr', 'ret', 'mkt_cap', 'cumret']]\n",
    "#LSTM_data_m"
   ]
  },
  {
   "cell_type": "code",
   "execution_count": 64,
   "metadata": {},
   "outputs": [],
   "source": [
    "# Saving file as CSV for the LSTM model\n",
    "#LSTM_data_m.to_csv('LSTM_data_m.csv', index=True)"
   ]
  }
 ],
 "metadata": {
  "kernelspec": {
   "display_name": "Python 3",
   "language": "python",
   "name": "python3"
  },
  "language_info": {
   "codemirror_mode": {
    "name": "ipython",
    "version": 3
   },
   "file_extension": ".py",
   "mimetype": "text/x-python",
   "name": "python",
   "nbconvert_exporter": "python",
   "pygments_lexer": "ipython3",
   "version": "3.8.5"
  }
 },
 "nbformat": 4,
 "nbformat_minor": 4
}
