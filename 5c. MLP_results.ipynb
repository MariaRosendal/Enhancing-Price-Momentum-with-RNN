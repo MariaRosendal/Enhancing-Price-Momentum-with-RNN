{
 "cells": [
  {
   "cell_type": "code",
   "execution_count": 1,
   "metadata": {},
   "outputs": [],
   "source": [
    "import pandas as pd\n",
    "import numpy as np\n",
    "from pandas.tseries.offsets import *\n",
    "\n",
    "from scipy import stats\n",
    "import datetime as dt\n",
    "\n",
    "import matplotlib.pyplot as plt\n",
    "import statsmodels.api as sm\n",
    "\n",
    "import pickle"
   ]
  },
  {
   "cell_type": "code",
   "execution_count": 68,
   "metadata": {},
   "outputs": [],
   "source": [
    "# Loading stocks\n",
    "y_pred1 = pickle.load(open('mlp_predict.pkl', 'rb' ))\n",
    "y_pred2 = pickle.load(open('mlp_predict_2.pkl', 'rb' ))\n",
    "#y_pred3 = pickle.load(open('mlp_predict_3.pkl', 'rb' ))\n",
    "y_pred4 = pickle.load(open('mlp_predict_4.pkl', 'rb' ))\n",
    "y_pred5 = pickle.load(open('mlp_predict_5.pkl', 'rb' ))"
   ]
  },
  {
   "cell_type": "code",
   "execution_count": 69,
   "metadata": {},
   "outputs": [],
   "source": [
    "#y_pred1.shape, y_pred2.shape, y_pred3.shape, y_pred4.shape, y_pred5.shape"
   ]
  },
  {
   "cell_type": "code",
   "execution_count": 87,
   "metadata": {},
   "outputs": [],
   "source": [
    "y_pred = np.mean(np.array([y_pred1, y_pred2, y_pred4, y_pred5]), axis=0 )\n",
    "#y_pred = np.mean(np.array([y_pred1, y_pred2,y_pred3,y_pred4, y_pred5]), axis=0 )"
   ]
  },
  {
   "cell_type": "code",
   "execution_count": 88,
   "metadata": {},
   "outputs": [],
   "source": [
    "y_pred = y_pred.ravel()"
   ]
  },
  {
   "cell_type": "code",
   "execution_count": 89,
   "metadata": {},
   "outputs": [],
   "source": [
    "# Importing y\n",
    "y = pd.read_csv('y_reg.csv')\n",
    "y['date'] =  pd.to_datetime(y['date'])\n",
    "y = y.set_index(['date'])\n",
    "y_test = y[y.index > '1975-12-01']\n",
    "y_test = y_test.values.ravel()"
   ]
  },
  {
   "cell_type": "code",
   "execution_count": 90,
   "metadata": {},
   "outputs": [
    {
     "data": {
      "text/plain": [
       "((270000,), (270000,))"
      ]
     },
     "execution_count": 90,
     "metadata": {},
     "output_type": "execute_result"
    }
   ],
   "source": [
    "y_pred.shape, y_test.shape"
   ]
  },
  {
   "cell_type": "code",
   "execution_count": 91,
   "metadata": {},
   "outputs": [
    {
     "data": {
      "text/plain": [
       "[-0.09566182134814437,\n",
       " 0.04810101433758823,\n",
       " -0.01468144184623528,\n",
       " 0.06518996399277309,\n",
       " 0.07141848962172448,\n",
       " 0.01985570704842574,\n",
       " 0.04966870293761443,\n",
       " 0.13040738253683448,\n",
       " -0.013884431061512863,\n",
       " 0.06764209887963196,\n",
       " 0.07344832445555433,\n",
       " -0.10734263562202395,\n",
       " 0.12965581308487073,\n",
       " -0.03526587500127466,\n",
       " -0.0135835346390706,\n",
       " 0.16294744916173523,\n",
       " 0.05301891807811966,\n",
       " -0.04069476847353346,\n",
       " 1.2729787284458349e-05,\n",
       " -0.09981548095608332,\n",
       " 0.07389880319657359,\n",
       " 0.06382910765245743,\n",
       " -0.04105803717039206,\n",
       " 0.010992015931035253,\n",
       " -0.03269427234300506,\n",
       " 0.04828057176838502,\n",
       " -0.04749064101371828,\n",
       " -0.1562319334109966,\n",
       " -0.013820894711961608,\n",
       " 0.16309029123181082,\n",
       " -0.018326512315667627,\n",
       " -0.10399677375663906,\n",
       " 0.04125719116187806,\n",
       " -0.020486660244308796,\n",
       " -0.03825576943921802,\n",
       " 0.018037550382566023,\n",
       " -0.006173521717875993,\n",
       " 0.07038665763597339,\n",
       " -0.09154038373908406,\n",
       " 0.09319421235419006,\n",
       " 0.06600314793933425,\n",
       " -0.017704627520761615,\n",
       " -0.07926436332203171,\n",
       " 0.011816203597121355,\n",
       " 0.06320950663350249,\n",
       " 0.09516346342544826,\n",
       " -0.0802235990488603,\n",
       " 0.12953562855941236,\n",
       " -0.0024663392097307108,\n",
       " 0.06994495121893629,\n",
       " 0.19239369830832978,\n",
       " -0.07965664414804821,\n",
       " -0.02362617717181021,\n",
       " -0.02226051193662833,\n",
       " -0.027356254680551535,\n",
       " -0.09394122275181783,\n",
       " -0.032162710316344593,\n",
       " 0.00476300259843007,\n",
       " -0.010162237279121147,\n",
       " 0.16169875035422335,\n",
       " 0.10856468943047778,\n",
       " 0.08882195252437841,\n",
       " -0.046508476531302786,\n",
       " 0.03822241025226768,\n",
       " 0.009771019831795114,\n",
       " 0.10807953639333118,\n",
       " -0.11820563295822607,\n",
       " 0.040222846758873,\n",
       " 0.2347927386472757,\n",
       " -0.0891298852563152,\n",
       " 0.0005438364223947908,\n",
       " 0.04482130384455847,\n",
       " 0.219676545114404,\n",
       " 0.3447900402499257,\n",
       " 0.06248553578704478,\n",
       " 0.10914091970198901,\n",
       " 0.034289304041051905,\n",
       " -0.014761146086022397,\n",
       " 0.09226045585275262,\n",
       " -0.11925720814612273,\n",
       " 0.1568550496997621,\n",
       " -0.08044752568655268,\n",
       " 0.12603162863767786,\n",
       " 0.09574527554074046,\n",
       " -0.13201733348785363,\n",
       " 0.02364356580009875,\n",
       " -0.03715872384713747,\n",
       " -0.015048001113827942,\n",
       " -0.1379285016569965,\n",
       " -0.05556116863947258,\n",
       " 0.10424580198304215,\n",
       " 0.00012650058165667878,\n",
       " 0.07521371903924644,\n",
       " 0.03206022053790992,\n",
       " -0.1443199043717532,\n",
       " -0.12981115992727213,\n",
       " 0.07465515961984112,\n",
       " 0.023398707692632793,\n",
       " -0.1282544426978177,\n",
       " -0.017951424979501012,\n",
       " -0.032907538717131965,\n",
       " 0.03361360925450563,\n",
       " 0.020847461508322923,\n",
       " -0.09581774599163909,\n",
       " -0.03983062668660027,\n",
       " 0.001237726819288801,\n",
       " -0.04342352005809848,\n",
       " 0.013646379680647016,\n",
       " -0.08063231060886464,\n",
       " 0.03222022337033494,\n",
       " 0.2629304701615428,\n",
       " 0.06682857956781584,\n",
       " 0.07910904654510562,\n",
       " 0.10381458779445242,\n",
       " -0.18624991607108338,\n",
       " 0.1869674889953549,\n",
       " 0.12353384821100333,\n",
       " 0.097669676499419,\n",
       " -0.011986589472390568,\n",
       " 0.04903433706842252,\n",
       " 0.034818903086514856,\n",
       " 0.0027003946177613968,\n",
       " 0.005016016111126548,\n",
       " 0.04995661072731127,\n",
       " 0.02966622133255906,\n",
       " 0.08484484030869328,\n",
       " 0.15059434293217946,\n",
       " 0.00752883640305637,\n",
       " -0.07858467936491888,\n",
       " 0.06400628957916378,\n",
       " -0.11030578733788929,\n",
       " 0.048086043087586176,\n",
       " -0.028206850401994266,\n",
       " -0.10995661826972249,\n",
       " -0.029547573530756193,\n",
       " -0.03946988038264174,\n",
       " -0.06577138047156172,\n",
       " 0.027726609137603792,\n",
       " -0.07529774858294686,\n",
       " -0.022287318554725044,\n",
       " 0.016783806135699658,\n",
       " 0.21921315131265917,\n",
       " 0.02056062102248409,\n",
       " 0.1098939430938724,\n",
       " -0.10411687942215057,\n",
       " -0.10911406446138405,\n",
       " -0.0032439732668445498,\n",
       " -0.029439597718707324,\n",
       " 0.00975804942125644,\n",
       " -0.05109876661907091,\n",
       " 0.039688165749240785,\n",
       " 0.12338871569874513,\n",
       " 0.046077722538281976,\n",
       " 0.01682195338696237,\n",
       " 0.10561872374638993,\n",
       " -0.0351184472321079,\n",
       " 0.029286523162064183,\n",
       " 0.09042408274894327,\n",
       " 0.14902109062950214,\n",
       " 0.11061459268243484,\n",
       " -0.009580962917793394,\n",
       " 0.05851449637045028,\n",
       " -0.030371520629168466,\n",
       " -0.06376344820756578,\n",
       " 0.11664695822496679,\n",
       " 0.1546074302451563,\n",
       " 0.03051475016784077,\n",
       " 0.10782106046581304,\n",
       " 0.09627245139344408,\n",
       " -0.04509912412273106,\n",
       " -0.07790088952638885,\n",
       " 0.004183007550279481,\n",
       " -0.014294164861481534,\n",
       " 0.050858354968556486,\n",
       " 0.14476665820175305,\n",
       " 0.1400015181676897,\n",
       " 0.037219020578665524,\n",
       " -0.027078470942841347,\n",
       " -0.09512870632856747,\n",
       " -0.04195699129648924,\n",
       " -0.33132972376048525,\n",
       " -0.10692730953531975,\n",
       " -0.04742678027799968,\n",
       " -0.08643604685109596,\n",
       " 0.010049716365215114,\n",
       " 0.04398223354032848,\n",
       " 0.02737036401381397,\n",
       " 0.05598102971520072,\n",
       " 0.10641067183736268,\n",
       " 0.006538347795167707,\n",
       " 0.0423296352777105,\n",
       " -0.11185518843497322,\n",
       " 0.012471781512690428,\n",
       " -0.18903538791617827,\n",
       " 0.06744356012534385,\n",
       " 0.018727130149024836,\n",
       " 0.05223956325037137,\n",
       " 0.07945734903982907,\n",
       " -0.03640834763712427,\n",
       " 0.09052444607146802,\n",
       " -0.11494316304490411,\n",
       " -0.07219840445706976,\n",
       " -0.22838183521441519,\n",
       " -0.04426322875588785,\n",
       " -0.05284607612245213,\n",
       " -0.0002420019171850385,\n",
       " 0.024921716034870246,\n",
       " -0.1070690947392775,\n",
       " -0.08921390429753603,\n",
       " 0.11016952904757357,\n",
       " 0.07369086625782323,\n",
       " -0.050877764565777854,\n",
       " -0.0013576331213383719,\n",
       " -0.07903707891626326,\n",
       " -0.05667872306266122,\n",
       " 0.0030438785437808566,\n",
       " -0.049050874884830294,\n",
       " 0.004861795097872587,\n",
       " -0.036162216407790326,\n",
       " 0.07280958922066749,\n",
       " -0.07212408262081113,\n",
       " 0.06492855834860511,\n",
       " -0.07844097849527709,\n",
       " 0.017857797033288315,\n",
       " 0.06805862647028818,\n",
       " 0.0006086252235233064,\n",
       " -0.025717454719475678,\n",
       " 0.06657140851712776,\n",
       " -0.10228230158673121,\n",
       " 0.10232182509857382,\n",
       " 0.06913170874375871,\n",
       " -0.051685023619123145,\n",
       " 0.0401969768889713,\n",
       " 0.05227074949200398,\n",
       " -0.016118273448842133,\n",
       " -0.06030746350545515,\n",
       " 0.05848925581608539,\n",
       " 0.07082732983759586,\n",
       " -0.042905193519911025,\n",
       " 0.07420880762499543,\n",
       " -0.016943455224199717,\n",
       " 0.006669660636260679,\n",
       " -0.05350327727326273,\n",
       " -0.12375857903861313,\n",
       " 0.039010872849158995,\n",
       " 0.18694239375302876,\n",
       " -0.06593934090878921,\n",
       " -0.05140751725713145,\n",
       " 0.011733747448077052,\n",
       " 0.1423472796332441,\n",
       " -0.09773551999457958,\n",
       " -0.01163448526209243,\n",
       " -0.0012928491600067576,\n",
       " 0.019039776046259657,\n",
       " 0.030693975691230155,\n",
       " 0.003857758549222006,\n",
       " -0.038944226015677826,\n",
       " 0.020424843938974993,\n",
       " -0.07604583754469162,\n",
       " -0.03570986910140554,\n",
       " 0.009205872055134444,\n",
       " -0.07754986361408116,\n",
       " -0.10981685325712111,\n",
       " -0.02373916568404814,\n",
       " -0.009756761626095985,\n",
       " -0.0058567067013045905,\n",
       " 0.03420747625083507,\n",
       " -0.11271791024071998,\n",
       " 0.035635601227382296,\n",
       " -0.04532961077023656,\n",
       " 0.014925742933772775,\n",
       " 0.18452626314485424,\n",
       " 0.024625529946410044,\n",
       " -0.08774121780963236,\n",
       " -0.1123290201452718,\n",
       " -0.03759257868793956,\n",
       " -0.19239862386603412,\n",
       " 0.060514893558138626,\n",
       " 0.0062376795930283255,\n",
       " -0.06512694037058377,\n",
       " -0.0031176611853656467,\n",
       " -0.12031894849162603,\n",
       " 0.08699556250809175,\n",
       " -0.05807293842820546,\n",
       " 0.009512995629214437,\n",
       " -0.028418064782349064,\n",
       " 0.0923938357188185,\n",
       " 0.026177030030265294,\n",
       " -0.03432138307558626,\n",
       " -0.19565045675942166,\n",
       " 0.031241598700123774,\n",
       " -0.06251811806077272,\n",
       " 0.011885329655187236,\n",
       " -0.1298888545981928,\n",
       " 0.048639475982695884,\n",
       " 0.026901734646819466,\n",
       " 0.11085329580308538,\n",
       " 0.053846626119708266,\n",
       " 0.0987707661959723,\n",
       " 0.06298176312869563,\n",
       " -0.10649267991835953,\n",
       " 0.3241749100269268,\n",
       " 0.0785451290862989,\n",
       " -0.2623478929216116,\n",
       " 0.18182415131468224,\n",
       " -0.08466058067417664,\n",
       " 0.04356322590360969,\n",
       " 0.09588672771221109,\n",
       " -0.004206988321115212,\n",
       " 0.02361961640608508,\n",
       " -0.11680004666366031,\n",
       " 0.0036435537222466647,\n",
       " -0.0029009421798062845,\n",
       " 0.16000454096705805,\n",
       " 0.06231306871417118,\n",
       " -0.03245321605713601,\n",
       " -0.005343680112769464,\n",
       " -0.025057749411055513,\n",
       " 0.17459728308658004,\n",
       " 0.11060210104347583,\n",
       " 0.08056792291266505,\n",
       " -0.12161497229740786,\n",
       " 0.06860729603477601,\n",
       " 0.25861469790197666,\n",
       " 0.0897566396595634,\n",
       " 0.02468643709048031,\n",
       " 0.09141612470988383,\n",
       " 0.036904802315910194,\n",
       " -0.053737739684265116,\n",
       " -0.055718366193102824,\n",
       " -0.06838942611498516,\n",
       " -0.14630798450906402,\n",
       " 0.09375672258964221,\n",
       " -0.045999681134313096,\n",
       " 0.03263268400788799,\n",
       " -0.021627058431007935,\n",
       " 0.013710587336975704,\n",
       " 0.15932668886789583,\n",
       " 0.17379762833699575,\n",
       " -0.11374840418594998,\n",
       " 0.005605722343941165,\n",
       " 0.002645030166978804,\n",
       " 0.12590913156380115,\n",
       " 0.04942240895432998,\n",
       " -0.04479676389487713,\n",
       " -0.008980206145846796,\n",
       " 0.04530660811623424,\n",
       " -0.05490758209020815,\n",
       " 0.04409235348632311,\n",
       " 0.009078734201315202,\n",
       " 0.06919829557964782,\n",
       " 0.05782177106681474,\n",
       " -0.03496193500488848,\n",
       " -0.015506705256155414,\n",
       " -0.03882496760089733,\n",
       " 0.039300595014010425,\n",
       " 0.015188671364730715,\n",
       " 0.02672991851125969,\n",
       " 0.04458365907207476,\n",
       " 0.03405545003007859,\n",
       " -0.006704930599879376,\n",
       " 0.03971558527228981,\n",
       " -0.06825237803407963,\n",
       " 0.03073084082348146,\n",
       " 0.0011528203580396209,\n",
       " 0.03545975426262064,\n",
       " 0.07963975828664258,\n",
       " 0.008925143188666747,\n",
       " -0.06741965662219836,\n",
       " -0.03556668541719137,\n",
       " -0.16717517628155557,\n",
       " 0.07451977350783598,\n",
       " 0.03689412180479288,\n",
       " 0.021051723680425516,\n",
       " 0.003037815688205877,\n",
       " -0.07913958853609614,\n",
       " 0.05972837043342312,\n",
       " -0.11150669628329314,\n",
       " 0.010701315821733011,\n",
       " 0.14003368857394502,\n",
       " 0.02832570419060762,\n",
       " 0.10577699515109776,\n",
       " 0.06654280645654809,\n",
       " -0.025026134298438373,\n",
       " -0.07351133834139635,\n",
       " 0.02858517050873852,\n",
       " 0.05117668620879456,\n",
       " -0.03673258170408685,\n",
       " 0.0966652760029801,\n",
       " 0.15088886352398903,\n",
       " 0.08780552586031616,\n",
       " 0.022394569980777698,\n",
       " -0.0744302662192773,\n",
       " 0.02667673949559265,\n",
       " 0.033395262812223415,\n",
       " 0.029306424742470014,\n",
       " -0.022638907642298135,\n",
       " -0.006195240929649503,\n",
       " 0.002453002636219456,\n",
       " -0.02353603070898758,\n",
       " -0.0528296858545684,\n",
       " 0.007831711514807138,\n",
       " -0.03642619720170391,\n",
       " 0.06058517615688181,\n",
       " 0.12496125484408951,\n",
       " -0.08473452414875365,\n",
       " -0.019538103530706067,\n",
       " -0.014413449999722803,\n",
       " -0.040494309864693205,\n",
       " 0.03053932896091886,\n",
       " 0.13543649030454796,\n",
       " -0.05274199836026511,\n",
       " 0.09345450223415563,\n",
       " 0.23872510396820762,\n",
       " -0.146207181386131,\n",
       " 0.15806082014845807,\n",
       " -0.06740632970559639,\n",
       " -0.007162503633721686,\n",
       " -0.06927270802912024,\n",
       " -0.012151122884844143,\n",
       " -0.0037901282712182907,\n",
       " 0.03226143359694263,\n",
       " -0.010533072079502864,\n",
       " 0.011140299583472138,\n",
       " 0.1461113588867058,\n",
       " 0.12246470974279723,\n",
       " 0.05365751752002299,\n",
       " 0.1864455883993496,\n",
       " 0.2568508783375864,\n",
       " -0.03645662529516583,\n",
       " 0.12927199587813012,\n",
       " 0.17478069612778938,\n",
       " -0.2115930009810535,\n",
       " -0.1670098783228406,\n",
       " 0.09822365970478461,\n",
       " 0.05167478087664187,\n",
       " 0.07318641338534869,\n",
       " 0.02147957254528094,\n",
       " 0.0642058335520013,\n",
       " -0.19208301460569277,\n",
       " -0.0020387918690535967,\n",
       " 0.0009939672904643031,\n",
       " 0.04852491535060084,\n",
       " -0.07283439589478104,\n",
       " 0.019912991791310737,\n",
       " -0.05650722203661006,\n",
       " 0.08382472842400118,\n",
       " -0.004166899923977912,\n",
       " -0.19206255073412412,\n",
       " 0.1029172087706291,\n",
       " -0.1028058348066872,\n",
       " -0.017322358170988775,\n",
       " 0.04721738046195289,\n",
       " 0.04117145672390978,\n",
       " -0.007800407497599034,\n",
       " -0.05885471354117195,\n",
       " 0.04230061508217856,\n",
       " -0.02677732923625837,\n",
       " -0.06780872379963288,\n",
       " -0.0208092247291351,\n",
       " 0.06893759879321411,\n",
       " -0.09467940915944056,\n",
       " -0.06349190896978489,\n",
       " -0.049282890563309124,\n",
       " 0.07898510931369952,\n",
       " -0.03941758328454865,\n",
       " -0.03459214612320656,\n",
       " 0.05470678175993217,\n",
       " 0.027388140705551414,\n",
       " 0.028533952696068766,\n",
       " -0.04393783398696863,\n",
       " -0.06548610713380916,\n",
       " 0.14546469120461578,\n",
       " -0.053283794141624395,\n",
       " 0.1390106628760083,\n",
       " -0.032665578892371594,\n",
       " 0.09591896627102996,\n",
       " -0.04458315799754354,\n",
       " 0.06918412422566232,\n",
       " 0.05384888207152717,\n",
       " 0.16836509593704693,\n",
       " 0.004678223238093479,\n",
       " -0.07399044293638414,\n",
       " -0.15929486253183286,\n",
       " 0.07710692860039084,\n",
       " 0.09280797599591574,\n",
       " -0.16413602786476422,\n",
       " -0.05383628846942254,\n",
       " -0.06441531086673362,\n",
       " 0.049628366199234546,\n",
       " -0.053431993491418875,\n",
       " 0.08881055034246257,\n",
       " -0.08969733343028478,\n",
       " 0.04692741428389931,\n",
       " 0.03958914515069189,\n",
       " -0.04358898953379787,\n",
       " 0.07646080423322056,\n",
       " -0.11507779948255437,\n",
       " -0.04410981925063608,\n",
       " 0.09002341980243064,\n",
       " -0.06537748524589058,\n",
       " -0.026694794275320052,\n",
       " 0.04868563779051891,\n",
       " -0.010983014077359875,\n",
       " 0.04216169604808904,\n",
       " 0.08587859517070782,\n",
       " 0.06205374019630998,\n",
       " 0.030782749213181016,\n",
       " 0.04662092186007917,\n",
       " -0.07522007048707538,\n",
       " 0.0499327539850839,\n",
       " -0.027272318757867918,\n",
       " 0.005601026300175897,\n",
       " 0.0981291809716922,\n",
       " 0.008378319976891549,\n",
       " 0.009858305904923493,\n",
       " -0.07048428570589449,\n",
       " 0.0005966984166579965,\n",
       " -0.03591232646641384,\n",
       " 0.00620000913513381,\n",
       " 0.12978101735933073,\n",
       " -0.15417069893713456,\n",
       " -0.033907962282596175,\n",
       " 0.16583306463559958,\n",
       " 0.0002932975320762763,\n",
       " -0.1127793668102506,\n",
       " -0.1969130380249922,\n",
       " -0.10280755110395075,\n",
       " 0.1677305968698432,\n",
       " 0.09159980813538748,\n",
       " 0.022064089313739207,\n",
       " 0.13727142306310977,\n",
       " 0.0300658334616248,\n",
       " -0.16724323063412036,\n",
       " 0.04131308897872565,\n",
       " -0.10317836221933631,\n",
       " 0.07793648673654206,\n",
       " -0.005867319681576695,\n",
       " -0.003957659998372033,\n",
       " -0.07927784851548116]"
      ]
     },
     "execution_count": 91,
     "metadata": {},
     "output_type": "execute_result"
    }
   ],
   "source": [
    "spear = []\n",
    "for i in range(len(y_pred)//500):       \n",
    "    spear.append(stats.spearmanr(y_pred[i*500:(i+1)*500], y_test[i*500:(i+1)*500])[0])\n",
    "spear"
   ]
  },
  {
   "cell_type": "code",
   "execution_count": 92,
   "metadata": {},
   "outputs": [
    {
     "data": {
      "text/plain": [
       "(0.009638575883214687, 0.08747121682632772)"
      ]
     },
     "execution_count": 92,
     "metadata": {},
     "output_type": "execute_result"
    }
   ],
   "source": [
    "np.mean(spear),np.std(spear,ddof=1)"
   ]
  },
  {
   "cell_type": "code",
   "execution_count": 93,
   "metadata": {},
   "outputs": [
    {
     "data": {
      "text/plain": [
       "Ttest_1sampResult(statistic=2.560616753574947, pvalue=0.010719946435112655)"
      ]
     },
     "execution_count": 93,
     "metadata": {},
     "output_type": "execute_result"
    }
   ],
   "source": [
    "stats.ttest_1samp(spear, 0.0)"
   ]
  },
  {
   "cell_type": "code",
   "execution_count": 94,
   "metadata": {},
   "outputs": [
    {
     "data": {
      "text/plain": [
       "<matplotlib.collections.PathCollection at 0x7fa18f34e400>"
      ]
     },
     "execution_count": 94,
     "metadata": {},
     "output_type": "execute_result"
    },
    {
     "data": {
      "image/png": "[encoded data removed]",
      "text/plain": [
       "<Figure size 432x288 with 1 Axes>"
      ]
     },
     "metadata": {
      "needs_background": "light"
     },
     "output_type": "display_data"
    }
   ],
   "source": [
    "plt.scatter(y_pred,y_test)"
   ]
  },
  {
   "cell_type": "code",
   "execution_count": 95,
   "metadata": {},
   "outputs": [
    {
     "name": "stdout",
     "output_type": "stream",
     "text": [
      "0.005948358516487451\n"
     ]
    }
   ],
   "source": [
    "# Testing R2\n",
    "r2_df = pd.DataFrame()\n",
    "r2_df['y'] = y_test\n",
    "r2_df['y_hat'] = y_pred\n",
    "r2_df['difference'] = (r2_df['y']-r2_df['y_hat'])\n",
    "r2_df['y_2'] = r2_df['y']**2\n",
    "r2_df['dif2'] = r2_df['difference']**2\n",
    "y_2 = r2_df['y_2'].sum() \n",
    "dif2 = r2_df['dif2'].sum()\n",
    "print(1 - (dif2 / y_2))"
   ]
  },
  {
   "cell_type": "code",
   "execution_count": 96,
   "metadata": {},
   "outputs": [],
   "source": [
    "# Loading stock universe\n",
    "universe_test = pd.read_csv('universe_test.csv')"
   ]
  },
  {
   "cell_type": "code",
   "execution_count": 97,
   "metadata": {},
   "outputs": [],
   "source": [
    "# Insert predictions\n",
    "universe_test.insert(1, \"y_hat\", y_pred)"
   ]
  },
  {
   "cell_type": "code",
   "execution_count": 98,
   "metadata": {},
   "outputs": [],
   "source": [
    "y_rank = universe_test.copy()"
   ]
  },
  {
   "cell_type": "code",
   "execution_count": 99,
   "metadata": {},
   "outputs": [
    {
     "name": "stdout",
     "output_type": "stream",
     "text": [
      "<class 'pandas.core.frame.DataFrame'>\n",
      "RangeIndex: 270000 entries, 0 to 269999\n",
      "Data columns (total 3 columns):\n",
      " #   Column  Non-Null Count   Dtype  \n",
      "---  ------  --------------   -----  \n",
      " 0   date    270000 non-null  object \n",
      " 1   y_hat   270000 non-null  float32\n",
      " 2   permno  270000 non-null  int64  \n",
      "dtypes: float32(1), int64(1), object(1)\n",
      "memory usage: 5.1+ MB\n"
     ]
    }
   ],
   "source": [
    "y_rank.info()"
   ]
  },
  {
   "cell_type": "code",
   "execution_count": 100,
   "metadata": {},
   "outputs": [
    {
     "data": {
      "text/html": [
       "<div>\n",
       "<style scoped>\n",
       "    .dataframe tbody tr th:only-of-type {\n",
       "        vertical-align: middle;\n",
       "    }\n",
       "\n",
       "    .dataframe tbody tr th {\n",
       "        vertical-align: top;\n",
       "    }\n",
       "\n",
       "    .dataframe thead th {\n",
       "        text-align: right;\n",
       "    }\n",
       "</style>\n",
       "<table border=\"1\" class=\"dataframe\">\n",
       "  <thead>\n",
       "    <tr style=\"text-align: right;\">\n",
       "      <th></th>\n",
       "      <th>date</th>\n",
       "      <th>y_hat</th>\n",
       "      <th>permno</th>\n",
       "    </tr>\n",
       "  </thead>\n",
       "  <tbody>\n",
       "    <tr>\n",
       "      <th>0</th>\n",
       "      <td>1976-01-01</td>\n",
       "      <td>0.010218</td>\n",
       "      <td>10137</td>\n",
       "    </tr>\n",
       "    <tr>\n",
       "      <th>1</th>\n",
       "      <td>1976-01-01</td>\n",
       "      <td>0.009974</td>\n",
       "      <td>10145</td>\n",
       "    </tr>\n",
       "    <tr>\n",
       "      <th>2</th>\n",
       "      <td>1976-01-01</td>\n",
       "      <td>0.010605</td>\n",
       "      <td>10161</td>\n",
       "    </tr>\n",
       "    <tr>\n",
       "      <th>3</th>\n",
       "      <td>1976-01-01</td>\n",
       "      <td>0.010797</td>\n",
       "      <td>10225</td>\n",
       "    </tr>\n",
       "    <tr>\n",
       "      <th>4</th>\n",
       "      <td>1976-01-01</td>\n",
       "      <td>0.009432</td>\n",
       "      <td>10233</td>\n",
       "    </tr>\n",
       "    <tr>\n",
       "      <th>...</th>\n",
       "      <td>...</td>\n",
       "      <td>...</td>\n",
       "      <td>...</td>\n",
       "    </tr>\n",
       "    <tr>\n",
       "      <th>269995</th>\n",
       "      <td>2020-12-01</td>\n",
       "      <td>0.010078</td>\n",
       "      <td>93096</td>\n",
       "    </tr>\n",
       "    <tr>\n",
       "      <th>269996</th>\n",
       "      <td>2020-12-01</td>\n",
       "      <td>0.010007</td>\n",
       "      <td>93132</td>\n",
       "    </tr>\n",
       "    <tr>\n",
       "      <th>269997</th>\n",
       "      <td>2020-12-01</td>\n",
       "      <td>0.012856</td>\n",
       "      <td>93246</td>\n",
       "    </tr>\n",
       "    <tr>\n",
       "      <th>269998</th>\n",
       "      <td>2020-12-01</td>\n",
       "      <td>0.010485</td>\n",
       "      <td>93312</td>\n",
       "    </tr>\n",
       "    <tr>\n",
       "      <th>269999</th>\n",
       "      <td>2020-12-01</td>\n",
       "      <td>0.007167</td>\n",
       "      <td>93436</td>\n",
       "    </tr>\n",
       "  </tbody>\n",
       "</table>\n",
       "<p>270000 rows × 3 columns</p>\n",
       "</div>"
      ],
      "text/plain": [
       "              date     y_hat  permno\n",
       "0       1976-01-01  0.010218   10137\n",
       "1       1976-01-01  0.009974   10145\n",
       "2       1976-01-01  0.010605   10161\n",
       "3       1976-01-01  0.010797   10225\n",
       "4       1976-01-01  0.009432   10233\n",
       "...            ...       ...     ...\n",
       "269995  2020-12-01  0.010078   93096\n",
       "269996  2020-12-01  0.010007   93132\n",
       "269997  2020-12-01  0.012856   93246\n",
       "269998  2020-12-01  0.010485   93312\n",
       "269999  2020-12-01  0.007167   93436\n",
       "\n",
       "[270000 rows x 3 columns]"
      ]
     },
     "execution_count": 100,
     "metadata": {},
     "output_type": "execute_result"
    }
   ],
   "source": [
    "y_rank"
   ]
  },
  {
   "cell_type": "code",
   "execution_count": 101,
   "metadata": {},
   "outputs": [
    {
     "data": {
      "text/plain": [
       "224713"
      ]
     },
     "execution_count": 101,
     "metadata": {},
     "output_type": "execute_result"
    }
   ],
   "source": [
    "y_rank['y_hat'].nunique()"
   ]
  },
  {
   "cell_type": "code",
   "execution_count": 102,
   "metadata": {
    "scrolled": true
   },
   "outputs": [
    {
     "data": {
      "text/plain": [
       "(270000, 3)"
      ]
     },
     "execution_count": 102,
     "metadata": {},
     "output_type": "execute_result"
    }
   ],
   "source": [
    "y_rank.shape"
   ]
  },
  {
   "cell_type": "code",
   "execution_count": 113,
   "metadata": {},
   "outputs": [
    {
     "data": {
      "text/html": [
       "<div>\n",
       "<style scoped>\n",
       "    .dataframe tbody tr th:only-of-type {\n",
       "        vertical-align: middle;\n",
       "    }\n",
       "\n",
       "    .dataframe tbody tr th {\n",
       "        vertical-align: top;\n",
       "    }\n",
       "\n",
       "    .dataframe thead th {\n",
       "        text-align: right;\n",
       "    }\n",
       "</style>\n",
       "<table border=\"1\" class=\"dataframe\">\n",
       "  <thead>\n",
       "    <tr style=\"text-align: right;\">\n",
       "      <th></th>\n",
       "      <th>date</th>\n",
       "      <th>y_hat</th>\n",
       "      <th>permno</th>\n",
       "    </tr>\n",
       "  </thead>\n",
       "  <tbody>\n",
       "    <tr>\n",
       "      <th>0</th>\n",
       "      <td>1976-01-01</td>\n",
       "      <td>0.016125</td>\n",
       "      <td>51377</td>\n",
       "    </tr>\n",
       "    <tr>\n",
       "      <th>1</th>\n",
       "      <td>1976-01-01</td>\n",
       "      <td>0.014711</td>\n",
       "      <td>15560</td>\n",
       "    </tr>\n",
       "    <tr>\n",
       "      <th>2</th>\n",
       "      <td>1976-01-01</td>\n",
       "      <td>0.014088</td>\n",
       "      <td>21709</td>\n",
       "    </tr>\n",
       "    <tr>\n",
       "      <th>3</th>\n",
       "      <td>1976-01-01</td>\n",
       "      <td>0.013946</td>\n",
       "      <td>16870</td>\n",
       "    </tr>\n",
       "    <tr>\n",
       "      <th>4</th>\n",
       "      <td>1976-01-01</td>\n",
       "      <td>0.013705</td>\n",
       "      <td>59328</td>\n",
       "    </tr>\n",
       "    <tr>\n",
       "      <th>...</th>\n",
       "      <td>...</td>\n",
       "      <td>...</td>\n",
       "      <td>...</td>\n",
       "    </tr>\n",
       "    <tr>\n",
       "      <th>269995</th>\n",
       "      <td>2020-12-01</td>\n",
       "      <td>0.003962</td>\n",
       "      <td>80191</td>\n",
       "    </tr>\n",
       "    <tr>\n",
       "      <th>269996</th>\n",
       "      <td>2020-12-01</td>\n",
       "      <td>0.003856</td>\n",
       "      <td>15826</td>\n",
       "    </tr>\n",
       "    <tr>\n",
       "      <th>269997</th>\n",
       "      <td>2020-12-01</td>\n",
       "      <td>0.003822</td>\n",
       "      <td>54148</td>\n",
       "    </tr>\n",
       "    <tr>\n",
       "      <th>269998</th>\n",
       "      <td>2020-12-01</td>\n",
       "      <td>0.002732</td>\n",
       "      <td>15643</td>\n",
       "    </tr>\n",
       "    <tr>\n",
       "      <th>269999</th>\n",
       "      <td>2020-12-01</td>\n",
       "      <td>0.002479</td>\n",
       "      <td>90664</td>\n",
       "    </tr>\n",
       "  </tbody>\n",
       "</table>\n",
       "<p>270000 rows × 3 columns</p>\n",
       "</div>"
      ],
      "text/plain": [
       "              date     y_hat  permno\n",
       "0       1976-01-01  0.016125   51377\n",
       "1       1976-01-01  0.014711   15560\n",
       "2       1976-01-01  0.014088   21709\n",
       "3       1976-01-01  0.013946   16870\n",
       "4       1976-01-01  0.013705   59328\n",
       "...            ...       ...     ...\n",
       "269995  2020-12-01  0.003962   80191\n",
       "269996  2020-12-01  0.003856   15826\n",
       "269997  2020-12-01  0.003822   54148\n",
       "269998  2020-12-01  0.002732   15643\n",
       "269999  2020-12-01  0.002479   90664\n",
       "\n",
       "[270000 rows x 3 columns]"
      ]
     },
     "execution_count": 113,
     "metadata": {},
     "output_type": "execute_result"
    }
   ],
   "source": [
    "y_rank"
   ]
  },
  {
   "cell_type": "code",
   "execution_count": 124,
   "metadata": {},
   "outputs": [],
   "source": [
    "y_rank['y_hat'].drop_duplicates(inplace=True)"
   ]
  },
  {
   "cell_type": "code",
   "execution_count": 125,
   "metadata": {},
   "outputs": [
    {
     "ename": "ValueError",
     "evalue": "Bin edges must be unique: array([-0.00062172,  0.00891777,  0.00970551,  0.01022271,  0.01046101,\n        0.01054889,  0.01057762,  0.01057762,  0.01079992,  0.01112204,\n        0.01348953]).\nYou can drop duplicate edges by setting the 'duplicates' kwarg",
     "output_type": "error",
     "traceback": [
      "\u001b[0;31m---------------------------------------------------------------------------\u001b[0m",
      "\u001b[0;31mValueError\u001b[0m                                Traceback (most recent call last)",
      "\u001b[0;32m<ipython-input-125-313efacd38da>\u001b[0m in \u001b[0;36m<module>\u001b[0;34m\u001b[0m\n\u001b[1;32m      3\u001b[0m \u001b[0;34m\u001b[0m\u001b[0m\n\u001b[1;32m      4\u001b[0m \u001b[0my_rank\u001b[0m \u001b[0;34m=\u001b[0m \u001b[0my_rank\u001b[0m\u001b[0;34m.\u001b[0m\u001b[0mgroupby\u001b[0m\u001b[0;34m(\u001b[0m\u001b[0;34m'date'\u001b[0m\u001b[0;34m)\u001b[0m\u001b[0;34m.\u001b[0m\u001b[0mapply\u001b[0m\u001b[0;34m(\u001b[0m\u001b[0;32mlambda\u001b[0m \u001b[0mx\u001b[0m\u001b[0;34m:\u001b[0m \u001b[0mx\u001b[0m\u001b[0;34m.\u001b[0m\u001b[0msort_values\u001b[0m\u001b[0;34m(\u001b[0m\u001b[0;34m[\u001b[0m\u001b[0;34m'y_hat'\u001b[0m\u001b[0;34m]\u001b[0m\u001b[0;34m,\u001b[0m \u001b[0mascending\u001b[0m \u001b[0;34m=\u001b[0m \u001b[0;32mFalse\u001b[0m\u001b[0;34m)\u001b[0m\u001b[0;34m)\u001b[0m\u001b[0;34m.\u001b[0m\u001b[0mreset_index\u001b[0m\u001b[0;34m(\u001b[0m\u001b[0mdrop\u001b[0m\u001b[0;34m=\u001b[0m\u001b[0;32mTrue\u001b[0m\u001b[0;34m)\u001b[0m\u001b[0;34m\u001b[0m\u001b[0;34m\u001b[0m\u001b[0m\n\u001b[0;32m----> 5\u001b[0;31m \u001b[0my_rank\u001b[0m\u001b[0;34m[\u001b[0m\u001b[0;34m'rank'\u001b[0m\u001b[0;34m]\u001b[0m \u001b[0;34m=\u001b[0m \u001b[0my_rank\u001b[0m\u001b[0;34m.\u001b[0m\u001b[0mgroupby\u001b[0m\u001b[0;34m(\u001b[0m\u001b[0;34m'date'\u001b[0m\u001b[0;34m)\u001b[0m\u001b[0;34m[\u001b[0m\u001b[0;34m'y_hat'\u001b[0m\u001b[0;34m]\u001b[0m\u001b[0;34m.\u001b[0m\u001b[0mtransform\u001b[0m\u001b[0;34m(\u001b[0m\u001b[0;32mlambda\u001b[0m \u001b[0mx\u001b[0m\u001b[0;34m:\u001b[0m \u001b[0mpd\u001b[0m\u001b[0;34m.\u001b[0m\u001b[0mqcut\u001b[0m\u001b[0;34m(\u001b[0m\u001b[0mx\u001b[0m\u001b[0;34m,\u001b[0m \u001b[0;36m10\u001b[0m\u001b[0;34m,\u001b[0m \u001b[0mlabels\u001b[0m\u001b[0;34m=\u001b[0m\u001b[0;32mFalse\u001b[0m\u001b[0;34m)\u001b[0m\u001b[0;34m)\u001b[0m\u001b[0;34m\u001b[0m\u001b[0;34m\u001b[0m\u001b[0m\n\u001b[0m\u001b[1;32m      6\u001b[0m \u001b[0;34m\u001b[0m\u001b[0m\n\u001b[1;32m      7\u001b[0m \u001b[0;31m# For visualization: Shift momr from 0-9 to 1-10\u001b[0m\u001b[0;34m\u001b[0m\u001b[0;34m\u001b[0m\u001b[0;34m\u001b[0m\u001b[0m\n",
      "\u001b[0;32m/opt/anaconda3/lib/python3.8/site-packages/pandas/core/groupby/generic.py\u001b[0m in \u001b[0;36mtransform\u001b[0;34m(self, func, engine, engine_kwargs, *args, **kwargs)\u001b[0m\n\u001b[1;32m    491\u001b[0m \u001b[0;34m\u001b[0m\u001b[0m\n\u001b[1;32m    492\u001b[0m         \u001b[0;32mif\u001b[0m \u001b[0;32mnot\u001b[0m \u001b[0misinstance\u001b[0m\u001b[0;34m(\u001b[0m\u001b[0mfunc\u001b[0m\u001b[0;34m,\u001b[0m \u001b[0mstr\u001b[0m\u001b[0;34m)\u001b[0m\u001b[0;34m:\u001b[0m\u001b[0;34m\u001b[0m\u001b[0;34m\u001b[0m\u001b[0m\n\u001b[0;32m--> 493\u001b[0;31m             return self._transform_general(\n\u001b[0m\u001b[1;32m    494\u001b[0m                 \u001b[0mfunc\u001b[0m\u001b[0;34m,\u001b[0m \u001b[0;34m*\u001b[0m\u001b[0margs\u001b[0m\u001b[0;34m,\u001b[0m \u001b[0mengine\u001b[0m\u001b[0;34m=\u001b[0m\u001b[0mengine\u001b[0m\u001b[0;34m,\u001b[0m \u001b[0mengine_kwargs\u001b[0m\u001b[0;34m=\u001b[0m\u001b[0mengine_kwargs\u001b[0m\u001b[0;34m,\u001b[0m \u001b[0;34m**\u001b[0m\u001b[0mkwargs\u001b[0m\u001b[0;34m\u001b[0m\u001b[0;34m\u001b[0m\u001b[0m\n\u001b[1;32m    495\u001b[0m             )\n",
      "\u001b[0;32m/opt/anaconda3/lib/python3.8/site-packages/pandas/core/groupby/generic.py\u001b[0m in \u001b[0;36m_transform_general\u001b[0;34m(self, func, engine, engine_kwargs, *args, **kwargs)\u001b[0m\n\u001b[1;32m    535\u001b[0m                     \u001b[0mNUMBA_FUNC_CACHE\u001b[0m\u001b[0;34m[\u001b[0m\u001b[0mcache_key\u001b[0m\u001b[0;34m]\u001b[0m \u001b[0;34m=\u001b[0m \u001b[0mnumba_func\u001b[0m\u001b[0;34m\u001b[0m\u001b[0;34m\u001b[0m\u001b[0m\n\u001b[1;32m    536\u001b[0m             \u001b[0;32melse\u001b[0m\u001b[0;34m:\u001b[0m\u001b[0;34m\u001b[0m\u001b[0;34m\u001b[0m\u001b[0m\n\u001b[0;32m--> 537\u001b[0;31m                 \u001b[0mres\u001b[0m \u001b[0;34m=\u001b[0m \u001b[0mfunc\u001b[0m\u001b[0;34m(\u001b[0m\u001b[0mgroup\u001b[0m\u001b[0;34m,\u001b[0m \u001b[0;34m*\u001b[0m\u001b[0margs\u001b[0m\u001b[0;34m,\u001b[0m \u001b[0;34m**\u001b[0m\u001b[0mkwargs\u001b[0m\u001b[0;34m)\u001b[0m\u001b[0;34m\u001b[0m\u001b[0;34m\u001b[0m\u001b[0m\n\u001b[0m\u001b[1;32m    538\u001b[0m \u001b[0;34m\u001b[0m\u001b[0m\n\u001b[1;32m    539\u001b[0m             \u001b[0;32mif\u001b[0m \u001b[0misinstance\u001b[0m\u001b[0;34m(\u001b[0m\u001b[0mres\u001b[0m\u001b[0;34m,\u001b[0m \u001b[0;34m(\u001b[0m\u001b[0mABCDataFrame\u001b[0m\u001b[0;34m,\u001b[0m \u001b[0mABCSeries\u001b[0m\u001b[0;34m)\u001b[0m\u001b[0;34m)\u001b[0m\u001b[0;34m:\u001b[0m\u001b[0;34m\u001b[0m\u001b[0;34m\u001b[0m\u001b[0m\n",
      "\u001b[0;32m<ipython-input-125-313efacd38da>\u001b[0m in \u001b[0;36m<lambda>\u001b[0;34m(x)\u001b[0m\n\u001b[1;32m      3\u001b[0m \u001b[0;34m\u001b[0m\u001b[0m\n\u001b[1;32m      4\u001b[0m \u001b[0my_rank\u001b[0m \u001b[0;34m=\u001b[0m \u001b[0my_rank\u001b[0m\u001b[0;34m.\u001b[0m\u001b[0mgroupby\u001b[0m\u001b[0;34m(\u001b[0m\u001b[0;34m'date'\u001b[0m\u001b[0;34m)\u001b[0m\u001b[0;34m.\u001b[0m\u001b[0mapply\u001b[0m\u001b[0;34m(\u001b[0m\u001b[0;32mlambda\u001b[0m \u001b[0mx\u001b[0m\u001b[0;34m:\u001b[0m \u001b[0mx\u001b[0m\u001b[0;34m.\u001b[0m\u001b[0msort_values\u001b[0m\u001b[0;34m(\u001b[0m\u001b[0;34m[\u001b[0m\u001b[0;34m'y_hat'\u001b[0m\u001b[0;34m]\u001b[0m\u001b[0;34m,\u001b[0m \u001b[0mascending\u001b[0m \u001b[0;34m=\u001b[0m \u001b[0;32mFalse\u001b[0m\u001b[0;34m)\u001b[0m\u001b[0;34m)\u001b[0m\u001b[0;34m.\u001b[0m\u001b[0mreset_index\u001b[0m\u001b[0;34m(\u001b[0m\u001b[0mdrop\u001b[0m\u001b[0;34m=\u001b[0m\u001b[0;32mTrue\u001b[0m\u001b[0;34m)\u001b[0m\u001b[0;34m\u001b[0m\u001b[0;34m\u001b[0m\u001b[0m\n\u001b[0;32m----> 5\u001b[0;31m \u001b[0my_rank\u001b[0m\u001b[0;34m[\u001b[0m\u001b[0;34m'rank'\u001b[0m\u001b[0;34m]\u001b[0m \u001b[0;34m=\u001b[0m \u001b[0my_rank\u001b[0m\u001b[0;34m.\u001b[0m\u001b[0mgroupby\u001b[0m\u001b[0;34m(\u001b[0m\u001b[0;34m'date'\u001b[0m\u001b[0;34m)\u001b[0m\u001b[0;34m[\u001b[0m\u001b[0;34m'y_hat'\u001b[0m\u001b[0;34m]\u001b[0m\u001b[0;34m.\u001b[0m\u001b[0mtransform\u001b[0m\u001b[0;34m(\u001b[0m\u001b[0;32mlambda\u001b[0m \u001b[0mx\u001b[0m\u001b[0;34m:\u001b[0m \u001b[0mpd\u001b[0m\u001b[0;34m.\u001b[0m\u001b[0mqcut\u001b[0m\u001b[0;34m(\u001b[0m\u001b[0mx\u001b[0m\u001b[0;34m,\u001b[0m \u001b[0;36m10\u001b[0m\u001b[0;34m,\u001b[0m \u001b[0mlabels\u001b[0m\u001b[0;34m=\u001b[0m\u001b[0;32mFalse\u001b[0m\u001b[0;34m)\u001b[0m\u001b[0;34m)\u001b[0m\u001b[0;34m\u001b[0m\u001b[0;34m\u001b[0m\u001b[0m\n\u001b[0m\u001b[1;32m      6\u001b[0m \u001b[0;34m\u001b[0m\u001b[0m\n\u001b[1;32m      7\u001b[0m \u001b[0;31m# For visualization: Shift momr from 0-9 to 1-10\u001b[0m\u001b[0;34m\u001b[0m\u001b[0;34m\u001b[0m\u001b[0;34m\u001b[0m\u001b[0m\n",
      "\u001b[0;32m/opt/anaconda3/lib/python3.8/site-packages/pandas/core/reshape/tile.py\u001b[0m in \u001b[0;36mqcut\u001b[0;34m(x, q, labels, retbins, precision, duplicates)\u001b[0m\n\u001b[1;32m    358\u001b[0m         \u001b[0mquantiles\u001b[0m \u001b[0;34m=\u001b[0m \u001b[0mq\u001b[0m\u001b[0;34m\u001b[0m\u001b[0;34m\u001b[0m\u001b[0m\n\u001b[1;32m    359\u001b[0m     \u001b[0mbins\u001b[0m \u001b[0;34m=\u001b[0m \u001b[0malgos\u001b[0m\u001b[0;34m.\u001b[0m\u001b[0mquantile\u001b[0m\u001b[0;34m(\u001b[0m\u001b[0mx\u001b[0m\u001b[0;34m,\u001b[0m \u001b[0mquantiles\u001b[0m\u001b[0;34m)\u001b[0m\u001b[0;34m\u001b[0m\u001b[0;34m\u001b[0m\u001b[0m\n\u001b[0;32m--> 360\u001b[0;31m     fac, bins = _bins_to_cuts(\n\u001b[0m\u001b[1;32m    361\u001b[0m         \u001b[0mx\u001b[0m\u001b[0;34m,\u001b[0m\u001b[0;34m\u001b[0m\u001b[0;34m\u001b[0m\u001b[0m\n\u001b[1;32m    362\u001b[0m         \u001b[0mbins\u001b[0m\u001b[0;34m,\u001b[0m\u001b[0;34m\u001b[0m\u001b[0;34m\u001b[0m\u001b[0m\n",
      "\u001b[0;32m/opt/anaconda3/lib/python3.8/site-packages/pandas/core/reshape/tile.py\u001b[0m in \u001b[0;36m_bins_to_cuts\u001b[0;34m(x, bins, right, labels, precision, include_lowest, dtype, duplicates, ordered)\u001b[0m\n\u001b[1;32m    399\u001b[0m     \u001b[0;32mif\u001b[0m \u001b[0mlen\u001b[0m\u001b[0;34m(\u001b[0m\u001b[0munique_bins\u001b[0m\u001b[0;34m)\u001b[0m \u001b[0;34m<\u001b[0m \u001b[0mlen\u001b[0m\u001b[0;34m(\u001b[0m\u001b[0mbins\u001b[0m\u001b[0;34m)\u001b[0m \u001b[0;32mand\u001b[0m \u001b[0mlen\u001b[0m\u001b[0;34m(\u001b[0m\u001b[0mbins\u001b[0m\u001b[0;34m)\u001b[0m \u001b[0;34m!=\u001b[0m \u001b[0;36m2\u001b[0m\u001b[0;34m:\u001b[0m\u001b[0;34m\u001b[0m\u001b[0;34m\u001b[0m\u001b[0m\n\u001b[1;32m    400\u001b[0m         \u001b[0;32mif\u001b[0m \u001b[0mduplicates\u001b[0m \u001b[0;34m==\u001b[0m \u001b[0;34m\"raise\"\u001b[0m\u001b[0;34m:\u001b[0m\u001b[0;34m\u001b[0m\u001b[0;34m\u001b[0m\u001b[0m\n\u001b[0;32m--> 401\u001b[0;31m             raise ValueError(\n\u001b[0m\u001b[1;32m    402\u001b[0m                 \u001b[0;34mf\"Bin edges must be unique: {repr(bins)}.\\n\"\u001b[0m\u001b[0;34m\u001b[0m\u001b[0;34m\u001b[0m\u001b[0m\n\u001b[1;32m    403\u001b[0m                 \u001b[0;34mf\"You can drop duplicate edges by setting the 'duplicates' kwarg\"\u001b[0m\u001b[0;34m\u001b[0m\u001b[0;34m\u001b[0m\u001b[0m\n",
      "\u001b[0;31mValueError\u001b[0m: Bin edges must be unique: array([-0.00062172,  0.00891777,  0.00970551,  0.01022271,  0.01046101,\n        0.01054889,  0.01057762,  0.01057762,  0.01079992,  0.01112204,\n        0.01348953]).\nYou can drop duplicate edges by setting the 'duplicates' kwarg"
     ]
    }
   ],
   "source": [
    "# For each date, ranking stocks into 1-10 portfolios based on cumret\n",
    "# 1 = loser, 10 = winner portfolio \n",
    "\n",
    "y_rank = y_rank.groupby('date').apply(lambda x: x.sort_values(['y_hat'], ascending = False)).reset_index(drop=True)\n",
    "y_rank['rank'] = y_rank.groupby('date')['y_hat'].transform(lambda x: pd.qcut(x, 10, labels=False))\n",
    "\n",
    "# For visualization: Shift momr from 0-9 to 1-10 \n",
    "y_rank['rank']=1+y_rank['rank']"
   ]
  },
  {
   "cell_type": "code",
   "execution_count": null,
   "metadata": {},
   "outputs": [],
   "source": [
    "# Average cumulative return for each portfolio\n",
    "y_rank.groupby('rank')['y_hat'].mean()"
   ]
  },
  {
   "cell_type": "markdown",
   "metadata": {},
   "source": [
    "### 2. Merging daily data with MLP rank"
   ]
  },
  {
   "cell_type": "code",
   "execution_count": null,
   "metadata": {},
   "outputs": [],
   "source": [
    "# Loading daily returns\n",
    "d_ret1 = pd.read_csv('daily_1931.csv')\n",
    "d_ret1['daily_date'] = pd.to_datetime(d_ret1.daily_date)"
   ]
  },
  {
   "cell_type": "code",
   "execution_count": null,
   "metadata": {},
   "outputs": [],
   "source": [
    "d_ret1"
   ]
  },
  {
   "cell_type": "code",
   "execution_count": null,
   "metadata": {},
   "outputs": [],
   "source": [
    "# Preparing date colmn in \"universe\" for merge\n",
    "\n",
    "#Rename date column to merge\n",
    "y_rank.rename(columns={'date':'monthly_date'}, inplace=True)\n",
    "\n",
    "#Make datatime format\n",
    "y_rank['monthly_date'] = pd.to_datetime(y_rank.monthly_date)\n",
    "\n",
    "# Create date for merging\n",
    "y_rank['date_merge'] = y_rank['monthly_date']\n",
    "y_rank['date_merge'] = y_rank['date_merge'].dt.strftime(\"%Y/%m\")"
   ]
  },
  {
   "cell_type": "code",
   "execution_count": null,
   "metadata": {},
   "outputs": [],
   "source": [
    "# Merge on monthly date\n",
    "daily = pd.merge(d_ret1, y_rank, on=['date_merge', 'permno'], how='left')"
   ]
  },
  {
   "cell_type": "code",
   "execution_count": null,
   "metadata": {},
   "outputs": [],
   "source": [
    "# Looking at daily data\n",
    "daily.head()"
   ]
  },
  {
   "cell_type": "code",
   "execution_count": null,
   "metadata": {},
   "outputs": [],
   "source": [
    "# Filter on non-nans\n",
    "daily_filtered = daily[daily['rank'].notna()]"
   ]
  },
  {
   "cell_type": "code",
   "execution_count": null,
   "metadata": {},
   "outputs": [],
   "source": [
    "# Ensure returns are number format\n",
    "daily_filtered['ret'] = daily_filtered['ret'].astype(float)"
   ]
  },
  {
   "cell_type": "code",
   "execution_count": null,
   "metadata": {},
   "outputs": [],
   "source": [
    "# Creating dateframe for portfolio calculation\n",
    "port_d_return = pd.DataFrame(daily_filtered[['daily_date', 'ret', 'rank']])"
   ]
  },
  {
   "cell_type": "code",
   "execution_count": null,
   "metadata": {},
   "outputs": [],
   "source": [
    "# Calculating mean (portfolio return), for a given date, rank\n",
    "port_d_return = port_d_return.groupby(['daily_date','rank'])['ret'].mean().reset_index()\n",
    "port_d_return_t = port_d_return.copy()"
   ]
  },
  {
   "cell_type": "code",
   "execution_count": null,
   "metadata": {},
   "outputs": [],
   "source": [
    "# Check portfolio return\n",
    "port_d_return_t.groupby('rank')['ret'].describe()[['count','mean','std']].reset_index()"
   ]
  },
  {
   "cell_type": "code",
   "execution_count": null,
   "metadata": {},
   "outputs": [],
   "source": [
    "# Transpose portfolio layout to have columns as portfolio returns\n",
    "port_d_return_t = port_d_return.pivot(index='daily_date', columns='rank', values='ret')\n",
    "\n",
    "# Add prefix port in front of each column\n",
    "port_d_return_t = port_d_return_t.add_prefix('P')"
   ]
  },
  {
   "cell_type": "code",
   "execution_count": null,
   "metadata": {},
   "outputs": [],
   "source": [
    "port_d_return_t.head()"
   ]
  },
  {
   "cell_type": "code",
   "execution_count": null,
   "metadata": {},
   "outputs": [],
   "source": [
    "# Creating long-short portfolio\n",
    "port_d_return_t = port_d_return_t.rename(columns={'P1.0':'losers', 'P10.0':'winners'})\n",
    "port_d_return_t['long_short'] = port_d_return_t.winners - port_d_return_t.losers"
   ]
  },
  {
   "cell_type": "code",
   "execution_count": null,
   "metadata": {},
   "outputs": [],
   "source": [
    "port_d_return_t"
   ]
  },
  {
   "cell_type": "code",
   "execution_count": null,
   "metadata": {},
   "outputs": [],
   "source": [
    "# Ensuring no NAN-values\n",
    "port_d_return_t['long_short'].isnull().sum()"
   ]
  },
  {
   "cell_type": "code",
   "execution_count": null,
   "metadata": {},
   "outputs": [],
   "source": [
    "# OBS FILLING WITH NA - should not be necessary with new file\n",
    "port_d_return_t['long_short'] = port_d_return_t['long_short'].fillna(0)\n",
    "port_d_return_t['long_short'].isnull().sum()"
   ]
  },
  {
   "cell_type": "code",
   "execution_count": null,
   "metadata": {},
   "outputs": [],
   "source": [
    "# Defining long_short return\n",
    "long_short_ret = port_d_return_t['long_short']\n",
    "long_short_ret"
   ]
  },
  {
   "cell_type": "code",
   "execution_count": null,
   "metadata": {},
   "outputs": [],
   "source": [
    "# Dropping NA values\n",
    "long_short_ret = long_short_ret[long_short_ret.index != '1985-09-27']\n",
    "long_short_ret = long_short_ret[long_short_ret.index != '2012-10-29']\n",
    "long_short_ret = long_short_ret[long_short_ret.index != '2017-09-30']"
   ]
  },
  {
   "cell_type": "code",
   "execution_count": null,
   "metadata": {},
   "outputs": [],
   "source": [
    "# Save to CSV\n",
    "long_short_ret.to_csv('mlp_results.csv', index=True)"
   ]
  }
 ],
 "metadata": {
  "kernelspec": {
   "display_name": "Python 3",
   "language": "python",
   "name": "python3"
  },
  "language_info": {
   "codemirror_mode": {
    "name": "ipython",
    "version": 3
   },
   "file_extension": ".py",
   "mimetype": "text/x-python",
   "name": "python",
   "nbconvert_exporter": "python",
   "pygments_lexer": "ipython3",
   "version": "3.8.5"
  }
 },
 "nbformat": 4,
 "nbformat_minor": 4
}
